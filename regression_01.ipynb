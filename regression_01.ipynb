{
 "cells": [
  {
   "cell_type": "markdown",
   "id": "cbf1939c-1d1d-49ca-84ab-3932aa9f3c29",
   "metadata": {
    "tags": []
   },
   "source": [
    "# Introduction to regresssion with neural networks #"
   ]
  },
  {
   "cell_type": "markdown",
   "id": "aa7d1576-853f-4c9e-8840-d341173b4922",
   "metadata": {},
   "source": [
    "**There are many definitions for a regression problem but in our case, we are going to simplify it : predicting a numerical variable based on some other combination of variables, even shorter... predicting a number**"
   ]
  },
  {
   "cell_type": "code",
   "execution_count": 1,
   "id": "9ced4f9b-2ca2-480a-a671-5766737595a1",
   "metadata": {},
   "outputs": [
    {
     "name": "stderr",
     "output_type": "stream",
     "text": [
      "2022-07-04 08:53:40.339417: I tensorflow/core/util/util.cc:169] oneDNN custom operations are on. You may see slightly different numerical results due to floating-point round-off errors from different computation orders. To turn them off, set the environment variable `TF_ENABLE_ONEDNN_OPTS=0`.\n"
     ]
    },
    {
     "name": "stdout",
     "output_type": "stream",
     "text": [
      "2.9.1\n"
     ]
    }
   ],
   "source": [
    "import tensorflow as tf\n",
    "print(tf.__version__)"
   ]
  },
  {
   "cell_type": "markdown",
   "id": "b09ec9ff-9ac8-4f5e-ba58-66568c400442",
   "metadata": {
    "tags": []
   },
   "source": [
    "# Creating data to view and fit #"
   ]
  },
  {
   "cell_type": "code",
   "execution_count": 2,
   "id": "7e29aef3-1ca2-446b-8480-ddcf977e6296",
   "metadata": {},
   "outputs": [
    {
     "data": {
      "text/plain": [
       "array([-7., -4., -1.,  2.,  5.,  8., 11., 14.], dtype=float32)"
      ]
     },
     "execution_count": 2,
     "metadata": {},
     "output_type": "execute_result"
    },
    {
     "data": {
      "image/png": "[encoded data removed]",
      "text/plain": [
       "<Figure size 432x288 with 1 Axes>"
      ]
     },
     "metadata": {
      "needs_background": "light"
     },
     "output_type": "display_data"
    }
   ],
   "source": [
    "import numpy as np\n",
    "import matplotlib.pyplot as plt\n",
    "\n",
    "# Create features\n",
    "X = np.array([-7.0,-4.0,-1.0,2.0,5.0,8.0,11.0,14.0],dtype=np.float32)\n",
    "\n",
    "# Create labels\n",
    "Y = np.array([3.0,6.0,9.0,12.0,15.0,18.0,21.0,24.0],dtype=np.float32)\n",
    "\n",
    "# Visualize it\n",
    "plt.scatter(X,Y)\n",
    "X"
   ]
  },
  {
   "cell_type": "code",
   "execution_count": 3,
   "id": "417cf6b2-1cb5-4607-a92f-57f77269b050",
   "metadata": {},
   "outputs": [
    {
     "data": {
      "text/plain": [
       "array([ True,  True,  True,  True,  True,  True,  True,  True])"
      ]
     },
     "execution_count": 3,
     "metadata": {},
     "output_type": "execute_result"
    }
   ],
   "source": [
    "# Relationship between X and Y\n",
    "Y == X+10"
   ]
  },
  {
   "cell_type": "code",
   "execution_count": 4,
   "id": "6ea1dbf8-d5ac-4a4b-b4d7-97fd71ef89b1",
   "metadata": {},
   "outputs": [
    {
     "name": "stderr",
     "output_type": "stream",
     "text": [
      "2022-07-04 08:53:43.628456: I tensorflow/core/platform/cpu_feature_guard.cc:193] This TensorFlow binary is optimized with oneAPI Deep Neural Network Library (oneDNN) to use the following CPU instructions in performance-critical operations:  AVX2 AVX512F AVX512_VNNI FMA\n",
      "To enable them in other operations, rebuild TensorFlow with the appropriate compiler flags.\n"
     ]
    },
    {
     "data": {
      "text/plain": [
       "(<tf.Tensor: shape=(3,), dtype=string, numpy=array([b'bedroom', b'bathroom', b'garage'], dtype=object)>,\n",
       " <tf.Tensor: shape=(1,), dtype=int32, numpy=array([939700], dtype=int32)>)"
      ]
     },
     "execution_count": 4,
     "metadata": {},
     "output_type": "execute_result"
    }
   ],
   "source": [
    "# Create a demo tensor for our housing price prediction problem\n",
    "houseinfo = tf.constant([\"bedroom\",\"bathroom\",\"garage\"])\n",
    "houseprice = tf.constant([939700])\n",
    "houseinfo, houseprice"
   ]
  },
  {
   "cell_type": "code",
   "execution_count": 5,
   "id": "ef29183f-409d-405f-b7af-2a42973d8a03",
   "metadata": {},
   "outputs": [
    {
     "data": {
      "text/plain": [
       "(<tf.Tensor: shape=(8,), dtype=float32, numpy=array([-7., -4., -1.,  2.,  5.,  8., 11., 14.], dtype=float32)>,\n",
       " <tf.Tensor: shape=(8,), dtype=float32, numpy=array([ 3.,  6.,  9., 12., 15., 18., 21., 24.], dtype=float32)>)"
      ]
     },
     "execution_count": 5,
     "metadata": {},
     "output_type": "execute_result"
    }
   ],
   "source": [
    "# Turn numpy arrays into tensors\n",
    "X = tf.reshape(tf.constant(X),shape=(8,))\n",
    "Y = tf.constant(Y)\n",
    "X,Y"
   ]
  },
  {
   "cell_type": "code",
   "execution_count": 6,
   "id": "240879aa-8ab2-4738-a70f-22f663580dec",
   "metadata": {},
   "outputs": [
    {
     "data": {
      "text/plain": [
       "(TensorShape([]), TensorShape([]))"
      ]
     },
     "execution_count": 6,
     "metadata": {},
     "output_type": "execute_result"
    }
   ],
   "source": [
    "ins = X[0].shape\n",
    "outs = Y[0].shape\n",
    "ins,outs"
   ]
  },
  {
   "cell_type": "markdown",
   "id": "a9afa6e6-20ec-4e28-9a1a-736e05e3c5ad",
   "metadata": {
    "tags": []
   },
   "source": [
    "## Steps in modelling with tensorflow"
   ]
  },
  {
   "cell_type": "code",
   "execution_count": 7,
   "id": "d847cb39-1bb3-45c2-99d8-692eb5b73536",
   "metadata": {
    "tags": []
   },
   "outputs": [
    {
     "name": "stderr",
     "output_type": "stream",
     "text": [
      "/home/vihanga/Desktop/TutorialProjects/TF_Fundamentals/py3env/lib/python3.8/site-packages/keras/optimizers/optimizer_v2/adam.py:110: UserWarning: The `lr` argument is deprecated, use `learning_rate` instead.\n",
      "  super(Adam, self).__init__(name, **kwargs)\n"
     ]
    },
    {
     "data": {
      "text/plain": [
       "<keras.callbacks.History at 0x7f5f74513730>"
      ]
     },
     "execution_count": 7,
     "metadata": {},
     "output_type": "execute_result"
    }
   ],
   "source": [
    "# Set random seed\n",
    "tf.random.set_seed(42)\n",
    "\n",
    "# 1. Create a model using the Sequential API\n",
    "model = tf.keras.Sequential([\n",
    "    \n",
    "    #tf.keras.layers.Dense(units=1,input_shape=[1],activation=\"relu\")\n",
    "    tf.keras.layers.Dense(units=1,input_shape=[1],activation=None),\n",
    "   \n",
    "    \n",
    "    tf.keras.layers.Dense(1)\n",
    "    \n",
    "])\n",
    "\n",
    "# 2. Compile the model\n",
    "model.compile(loss=tf.keras.losses.mae, # mae is short for mean absolute error\n",
    "             optimizer=tf.keras.optimizers.Adam(lr=0.153),metrics=[\"mae\"])\n",
    "\n",
    "RUN_NAME = \"run 2 with 5 nodes\"\n",
    "logger = tf.keras.callbacks.TensorBoard(\n",
    "    log_dir='logs/{}'.format(RUN_NAME),\n",
    "    histogram_freq=5,\n",
    "    write_graph=True\n",
    ")\n",
    "# 3. Fit the model\n",
    "model.fit(X,Y,epochs=50,verbose=0,callbacks=[logger])"
   ]
  },
  {
   "cell_type": "code",
   "execution_count": 8,
   "id": "b5712cc5-d713-4a12-b71c-d7c331ed9c70",
   "metadata": {
    "tags": []
   },
   "outputs": [
    {
     "data": {
      "text/html": [
       "\n",
       "      <iframe id=\"tensorboard-frame-3b01c8e1d183a3a\" width=\"100%\" height=\"800\" frameborder=\"0\">\n",
       "      </iframe>\n",
       "      <script>\n",
       "        (function() {\n",
       "          const frame = document.getElementById(\"tensorboard-frame-3b01c8e1d183a3a\");\n",
       "          const url = new URL(\"/\", window.location);\n",
       "          const port = 6006;\n",
       "          if (port) {\n",
       "            url.port = port;\n",
       "          }\n",
       "          frame.src = url;\n",
       "        })();\n",
       "      </script>\n",
       "    "
      ],
      "text/plain": [
       "<IPython.core.display.HTML object>"
      ]
     },
     "metadata": {},
     "output_type": "display_data"
    }
   ],
   "source": [
    "# Load the TensorBoard notebook extension\n",
    "%load_ext tensorboard\n",
    "%tensorboard --logdir logs"
   ]
  },
  {
   "cell_type": "code",
   "execution_count": 9,
   "id": "205fe1f6-fcd9-4be4-9e0f-2ac1763317e1",
   "metadata": {},
   "outputs": [
    {
     "name": "stdout",
     "output_type": "stream",
     "text": [
      "1/1 [==============================] - 0s 62ms/step\n"
     ]
    },
    {
     "data": {
      "text/plain": [
       "array([[35.22254]], dtype=float32)"
      ]
     },
     "execution_count": 9,
     "metadata": {},
     "output_type": "execute_result"
    }
   ],
   "source": [
    "# Make prediction\n",
    "model.predict([25.0])"
   ]
  },
  {
   "cell_type": "code",
   "execution_count": 10,
   "id": "a4b8c268-5f31-4ab2-8d85-31b474f17c77",
   "metadata": {},
   "outputs": [
    {
     "name": "stdout",
     "output_type": "stream",
     "text": [
      "1/1 [==============================] - 0s 73ms/step - loss: 0.0969 - mae: 0.0969\n",
      "Accuracy: 9.69%\n"
     ]
    }
   ],
   "source": [
    "scores = model.evaluate(X, Y, verbose=1)\n",
    "print(\"Accuracy: %.2f%%\" % (scores[1]*100))"
   ]
  },
  {
   "cell_type": "markdown",
   "id": "cb9e133a-cc97-43ae-8754-81a6489193a2",
   "metadata": {},
   "source": [
    "# Evaluating a model #"
   ]
  },
  {
   "cell_type": "code",
   "execution_count": 11,
   "id": "b42c8544-6f58-44df-82e9-ed6b167758b2",
   "metadata": {},
   "outputs": [
    {
     "data": {
      "text/plain": [
       "<tf.Tensor: shape=(50,), dtype=int32, numpy=\n",
       "array([-100,  -96,  -92,  -88,  -84,  -80,  -76,  -72,  -68,  -64,  -60,\n",
       "        -56,  -52,  -48,  -44,  -40,  -36,  -32,  -28,  -24,  -20,  -16,\n",
       "        -12,   -8,   -4,    0,    4,    8,   12,   16,   20,   24,   28,\n",
       "         32,   36,   40,   44,   48,   52,   56,   60,   64,   68,   72,\n",
       "         76,   80,   84,   88,   92,   96], dtype=int32)>"
      ]
     },
     "execution_count": 11,
     "metadata": {},
     "output_type": "execute_result"
    }
   ],
   "source": [
    "# Make a bigger data set\n",
    "X = tf.range(-100,100,4)\n",
    "X"
   ]
  },
  {
   "cell_type": "code",
   "execution_count": 12,
   "id": "7b4bc5a2-c0da-4458-9280-8e415e796eb9",
   "metadata": {},
   "outputs": [
    {
     "data": {
      "text/plain": [
       "<tf.Tensor: shape=(50,), dtype=int32, numpy=\n",
       "array([-90, -86, -82, -78, -74, -70, -66, -62, -58, -54, -50, -46, -42,\n",
       "       -38, -34, -30, -26, -22, -18, -14, -10,  -6,  -2,   2,   6,  10,\n",
       "        14,  18,  22,  26,  30,  34,  38,  42,  46,  50,  54,  58,  62,\n",
       "        66,  70,  74,  78,  82,  86,  90,  94,  98, 102, 106], dtype=int32)>"
      ]
     },
     "execution_count": 12,
     "metadata": {},
     "output_type": "execute_result"
    }
   ],
   "source": [
    "# Make labels for the dataset\n",
    "Y = X+10\n",
    "Y"
   ]
  },
  {
   "cell_type": "code",
   "execution_count": 13,
   "id": "38539d2b-2e60-4e44-b570-5d5944205b9c",
   "metadata": {},
   "outputs": [
    {
     "data": {
      "text/plain": [
       "<matplotlib.collections.PathCollection at 0x7f5f94d4c6d0>"
      ]
     },
     "execution_count": 13,
     "metadata": {},
     "output_type": "execute_result"
    },
    {
     "data": {
      "image/png": "[encoded data removed]",
      "text/plain": [
       "<Figure size 432x288 with 1 Axes>"
      ]
     },
     "metadata": {
      "needs_background": "light"
     },
     "output_type": "display_data"
    }
   ],
   "source": [
    "# Visualize data\n",
    "plt.scatter(X,Y)"
   ]
  },
  {
   "cell_type": "code",
   "execution_count": 14,
   "id": "fcbc4999-cb45-44cc-8cd4-ba172eb932b5",
   "metadata": {},
   "outputs": [],
   "source": [
    "# Split the data into train and test sets\n",
    "X_train = X[:40]\n",
    "Y_train = Y[:40]\n",
    "\n",
    "X_test = X[40:]\n",
    "Y_test = Y[40:]\n"
   ]
  },
  {
   "cell_type": "markdown",
   "id": "ff552370-666a-4bb8-b6ef-16271e7b6a06",
   "metadata": {},
   "source": [
    "**Visualizing the data**"
   ]
  },
  {
   "cell_type": "code",
   "execution_count": 15,
   "id": "9223a2bc-c1b2-4e0a-b576-64775eb861d3",
   "metadata": {},
   "outputs": [
    {
     "data": {
      "text/plain": [
       "<matplotlib.legend.Legend at 0x7f5f745944f0>"
      ]
     },
     "execution_count": 15,
     "metadata": {},
     "output_type": "execute_result"
    },
    {
     "data": {
      "image/png": "[encoded data removed]",
      "text/plain": [
       "<Figure size 720x504 with 1 Axes>"
      ]
     },
     "metadata": {
      "needs_background": "light"
     },
     "output_type": "display_data"
    }
   ],
   "source": [
    "plt.figure(figsize=(10,7))\n",
    "# Plot training data in blue\n",
    "plt.scatter(X_train,Y_train, c=\"b\", label=\"Training Data\")\n",
    "#Plot test data in green\n",
    "plt.scatter(X_test,Y_test, c=\"g\",label=\"Testing Data\")\n",
    "# Show  a legend\n",
    "plt.legend()"
   ]
  },
  {
   "cell_type": "code",
   "execution_count": 16,
   "id": "efe8cb86-be99-4554-8950-8c93f23ca23f",
   "metadata": {},
   "outputs": [
    {
     "name": "stdout",
     "output_type": "stream",
     "text": [
      "Model: \"my_model\"\n",
      "_________________________________________________________________\n",
      " Layer (type)                Output Shape              Param #   \n",
      "=================================================================\n",
      " input_layer (Dense)         (None, 10)                20        \n",
      "                                                                 \n",
      " output_layer (Dense)        (None, 1)                 11        \n",
      "                                                                 \n",
      "=================================================================\n",
      "Total params: 31\n",
      "Trainable params: 31\n",
      "Non-trainable params: 0\n",
      "_________________________________________________________________\n"
     ]
    }
   ],
   "source": [
    "# Let's have a look at how to build a neural network for the data\n",
    "# 1. Create a model\n",
    "model = tf.keras.Sequential([\n",
    "    tf.keras.layers.Dense(10,input_shape=[1],name=\"input_layer\"),\n",
    "    tf.keras.layers.Dense(1,name=\"output_layer\")\n",
    "],name=\"my_model\")\n",
    "\n",
    "# 2.compile the model\n",
    "model.compile(loss=tf.keras.losses.mae,\n",
    "              optimizer=tf.keras.optimizers.SGD(),\n",
    "              metrics=[\"mae\"])\n",
    "\n",
    "# 3. Fit the model\n",
    "model.fit(X_train,Y_train,epochs=100,verbose=0)\n",
    "model.summary()"
   ]
  },
  {
   "cell_type": "markdown",
   "id": "61d363c8-09fe-46d1-9823-bdb2353ed2c1",
   "metadata": {},
   "source": [
    "* Total params - total number of parameters in the model\n",
    "* Trainable parameters - these are the parameters (patterns) the model can update as it trains\n",
    "* Non-trainable params-these parameters are not updated during training(This is typical when you bring in already learn patterns or parameters from other models during **transfer learning**)"
   ]
  },
  {
   "cell_type": "code",
   "execution_count": 17,
   "id": "665190fb-110f-42b0-b9c7-b4713979ee21",
   "metadata": {},
   "outputs": [
    {
     "data": {
      "image/png": "[encoded data removed]",
      "text/plain": [
       "<IPython.core.display.Image object>"
      ]
     },
     "execution_count": 17,
     "metadata": {},
     "output_type": "execute_result"
    }
   ],
   "source": [
    "from tensorflow.keras.utils import plot_model\n",
    "plot_model(model=model, show_shapes=True)"
   ]
  },
  {
   "cell_type": "markdown",
   "id": "277ca14b-2d39-4458-9f06-b0b9e99a10fe",
   "metadata": {
    "jp-MarkdownHeadingCollapsed": true,
    "tags": []
   },
   "source": [
    "# Visualizing model predictions #"
   ]
  },
  {
   "cell_type": "code",
   "execution_count": 18,
   "id": "f914c893-cf29-4262-bca7-3ae702b5fc08",
   "metadata": {},
   "outputs": [
    {
     "name": "stdout",
     "output_type": "stream",
     "text": [
      "1/1 [==============================] - 0s 38ms/step\n"
     ]
    },
    {
     "data": {
      "text/plain": [
       "array([[ 75.97806 ],\n",
       "       [ 80.92621 ],\n",
       "       [ 85.874374],\n",
       "       [ 90.82253 ],\n",
       "       [ 95.77069 ],\n",
       "       [100.71885 ],\n",
       "       [105.66701 ],\n",
       "       [110.61517 ],\n",
       "       [115.56333 ],\n",
       "       [120.5115  ]], dtype=float32)"
      ]
     },
     "execution_count": 18,
     "metadata": {},
     "output_type": "execute_result"
    }
   ],
   "source": [
    "# Make some predictions\n",
    "Y_pred = model.predict(X_test)\n",
    "Y_pred"
   ]
  },
  {
   "cell_type": "code",
   "execution_count": 19,
   "id": "63f85255-0e66-40fe-86f5-7429f4bd6341",
   "metadata": {},
   "outputs": [],
   "source": [
    "# Lets create a plotting function\n",
    "def plot_predictions(train_data=X_train,\n",
    "                    train_labels=Y_train,\n",
    "                    test_data=X_test,\n",
    "                    test_labels=Y_test,\n",
    "                    predictions=Y_pred):\n",
    "    \n",
    "    plt.figure(figsize=(10,7))\n",
    "    # plot training data in blue\n",
    "    plt.scatter(train_data, train_labels, c=\"b\",label=\"Training data\")\n",
    "    # plot testing data in green\n",
    "    plt.scatter(test_data,test_labels, c=\"g\",label=\"Testing data\")\n",
    "    # plot models predictions in red\n",
    "    plt.scatter(test_data,predictions, c=\"r\",label=\"Predictions\")\n",
    "    # SHow the legend\n",
    "    plt.legend()\n",
    "    "
   ]
  },
  {
   "cell_type": "code",
   "execution_count": 20,
   "id": "a622746c-6d2a-4d48-8d63-fbed6998eaa0",
   "metadata": {},
   "outputs": [
    {
     "data": {
      "image/png": "[encoded data removed]",
      "text/plain": [
       "<Figure size 720x504 with 1 Axes>"
      ]
     },
     "metadata": {
      "needs_background": "light"
     },
     "output_type": "display_data"
    }
   ],
   "source": [
    "plot_predictions()"
   ]
  },
  {
   "cell_type": "markdown",
   "id": "5627a057-84eb-4e52-bceb-bc5de09c284b",
   "metadata": {
    "jp-MarkdownHeadingCollapsed": true,
    "tags": []
   },
   "source": [
    "# Evaluating model predictions with regression evaluation metrics #\n",
    "Since we are working on a regression, two of the main metrics:<br>\n",
    "* MAE - mean absolute error, \"on average, how wrong is each of model predictions\"\n",
    "* MSE - mean square error"
   ]
  },
  {
   "cell_type": "code",
   "execution_count": 21,
   "id": "5ae2d225-be14-4665-b0b0-6bbee43c85fc",
   "metadata": {},
   "outputs": [
    {
     "name": "stdout",
     "output_type": "stream",
     "text": [
      "1/1 [==============================] - 0s 68ms/step - loss: 10.2448 - mae: 10.2448\n"
     ]
    },
    {
     "data": {
      "text/plain": [
       "[10.244771957397461, 10.244771957397461]"
      ]
     },
     "execution_count": 21,
     "metadata": {},
     "output_type": "execute_result"
    }
   ],
   "source": [
    "# Evaluate the model on the test\n",
    "model.evaluate(X_test,Y_test)"
   ]
  },
  {
   "cell_type": "code",
   "execution_count": 22,
   "id": "d79e7b41-0b4a-4c05-874a-8b263d12bbc7",
   "metadata": {},
   "outputs": [
    {
     "data": {
      "text/plain": [
       "<tf.Tensor: shape=(), dtype=float32, numpy=10.244772>"
      ]
     },
     "execution_count": 22,
     "metadata": {},
     "output_type": "execute_result"
    }
   ],
   "source": [
    "# Calculate the mean absoute error\n",
    "mae = tf.metrics.mean_absolute_error(y_true=Y_test,y_pred=tf.squeeze(Y_pred))\n",
    "mae"
   ]
  },
  {
   "cell_type": "code",
   "execution_count": 23,
   "id": "288d39f2-fb39-490a-8ef5-62d2e4dc9428",
   "metadata": {},
   "outputs": [
    {
     "data": {
      "text/plain": [
       "<tf.Tensor: shape=(), dtype=float32, numpy=112.37217>"
      ]
     },
     "execution_count": 23,
     "metadata": {},
     "output_type": "execute_result"
    }
   ],
   "source": [
    "# calculate the mean square error\n",
    "mse = tf.metrics.mean_squared_error(y_true=Y_test,\n",
    "                                    y_pred=tf.squeeze(Y_pred))\n",
    "mse"
   ]
  },
  {
   "cell_type": "code",
   "execution_count": 24,
   "id": "1c2b760c-1c8d-467a-9eab-af6c8992a7e7",
   "metadata": {},
   "outputs": [],
   "source": [
    "# Make functions to reuse MAE and MSE\n",
    "def mae(y_true, y_pred):\n",
    "    return tf.metrics.mean_absolute_error(y_true=y_true,\n",
    "                                          y_pred=tf.squeeze(y_pred))\n",
    "\n",
    "def mse(y_true, y_pred):\n",
    "    return tf.metrics.mean_squared_error(y_true=y_true,\n",
    "                                          y_pred=tf.squeeze(y_pred))"
   ]
  },
  {
   "cell_type": "markdown",
   "id": "6e36e1ba-99a9-4c9b-b459-0486baf41c35",
   "metadata": {},
   "source": [
    "# Running expreiments to improve our model #"
   ]
  },
  {
   "cell_type": "markdown",
   "id": "56fa7cc8-9a98-4746-969d-b3f3a7955968",
   "metadata": {},
   "source": [
    "**Build MODEL_1**"
   ]
  },
  {
   "cell_type": "code",
   "execution_count": null,
   "id": "1e89c829-3f60-43da-b623-1823aaadc8cb",
   "metadata": {},
   "outputs": [],
   "source": [
    "# Set random seed\n",
    "tf.random.set_seed(42)\n",
    "\n",
    "# creating the model\n",
    "model_1 = tf.keras.Sequential([\n",
    "\n",
    "    tf.keras.layers.Dense(1,input_shape=[1])\n",
    "])\n",
    "\n",
    "# Compile the model\n",
    "model_1.compile(loss=tf.keras.losses.mae,\n",
    "                optimizer=tf.keras.optimizers.SGD(),\n",
    "                metrics=[\"mae\"])\n",
    "# Fit the model\n",
    "model_1.fit(X_train, Y_train, epochs=50,verbose=1)"
   ]
  },
  {
   "cell_type": "code",
   "execution_count": 26,
   "id": "3dfd7409-468a-4885-80ef-f4e5f9d372df",
   "metadata": {},
   "outputs": [
    {
     "name": "stdout",
     "output_type": "stream",
     "text": [
      "1/1 [==============================] - 0s 29ms/step\n"
     ]
    },
    {
     "data": {
      "image/png": "[encoded data removed]",
      "text/plain": [
       "<Figure size 720x504 with 1 Axes>"
      ]
     },
     "metadata": {
      "needs_background": "light"
     },
     "output_type": "display_data"
    }
   ],
   "source": [
    "# Make and plot predictions for model_1\n",
    "y_preds_1 = model_1.predict(X_test)\n",
    "plot_predictions(predictions=y_preds_1)"
   ]
  },
  {
   "cell_type": "code",
   "execution_count": 27,
   "id": "f6a2433d-bc39-4b35-b71b-8700c38ff89d",
   "metadata": {},
   "outputs": [
    {
     "data": {
      "text/plain": [
       "(<tf.Tensor: shape=(), dtype=float32, numpy=12.9609375>,\n",
       " <tf.Tensor: shape=(), dtype=float32, numpy=168.2675>)"
      ]
     },
     "execution_count": 27,
     "metadata": {},
     "output_type": "execute_result"
    }
   ],
   "source": [
    "mae_1 = mae(Y_test,y_preds_1)\n",
    "mse_1 = mse(Y_test,y_preds_1)\n",
    "mae_1, mse_1"
   ]
  },
  {
   "cell_type": "markdown",
   "id": "9b0425a5-d1d6-4a5c-a081-6b70849ce415",
   "metadata": {},
   "source": [
    "**Build model 2**"
   ]
  },
  {
   "cell_type": "code",
   "execution_count": null,
   "id": "51384736-27d7-4523-acfc-676064be3b85",
   "metadata": {},
   "outputs": [],
   "source": [
    "# Set the random seed\n",
    "tf.random.set_seed(42)\n",
    "\n",
    "# Create the model\n",
    "model_2 = tf.keras.Sequential([\n",
    "    tf.keras.layers.Dense(1,input_shape=[1]),\n",
    "    tf.keras.layers.Dense(1)\n",
    "\n",
    "])\n",
    "\n",
    "# Compile the model\n",
    "model_2.compile(loss=tf.keras.losses.mae,\n",
    "                optimizer = tf.keras.optimizers.SGD(),\n",
    "                metrics=['mse'])\n",
    "\n",
    "# Fit the model\n",
    "model_2.fit(X_train, Y_train, epochs = 100)"
   ]
  },
  {
   "cell_type": "code",
   "execution_count": 36,
   "id": "2a28cd93-84d9-4f84-a484-65c179ed0b3b",
   "metadata": {},
   "outputs": [
    {
     "name": "stdout",
     "output_type": "stream",
     "text": [
      "1/1 [==============================] - 0s 11ms/step\n"
     ]
    },
    {
     "data": {
      "image/png": "[encoded data removed]",
      "text/plain": [
       "<Figure size 720x504 with 1 Axes>"
      ]
     },
     "metadata": {
      "needs_background": "light"
     },
     "output_type": "display_data"
    }
   ],
   "source": [
    "# Make and plot predictions of model_2\n",
    "Y_preds_2 = model_2.predict(X_test)\n",
    "plot_predictions(predictions=Y_preds_2)"
   ]
  },
  {
   "cell_type": "code",
   "execution_count": 38,
   "id": "92170a25-ba6b-44d9-85b3-85edf0def4a5",
   "metadata": {},
   "outputs": [
    {
     "data": {
      "text/plain": [
       "(<tf.Tensor: shape=(), dtype=float32, numpy=1.9097618>,\n",
       " <tf.Tensor: shape=(), dtype=float32, numpy=5.458942>)"
      ]
     },
     "execution_count": 38,
     "metadata": {},
     "output_type": "execute_result"
    }
   ],
   "source": [
    "# Calculate model 2 evaluation metrics\n",
    "mae_2 = mae(Y_test,Y_preds_2)\n",
    "mse_2 = mse(Y_test,Y_preds_2)\n",
    "mae_2,mse_2"
   ]
  },
  {
   "cell_type": "markdown",
   "id": "14dcc217-6b31-4408-865a-e9842e1120ed",
   "metadata": {},
   "source": [
    "**Build model_3**\n",
    "\n",
    "*2 layers trained for 500 epochs*"
   ]
  },
  {
   "cell_type": "code",
   "execution_count": 42,
   "id": "295d6e94-6c04-4c2e-8ab7-90e1b9ee5341",
   "metadata": {},
   "outputs": [
    {
     "data": {
      "text/plain": [
       "<keras.callbacks.History at 0x7f5f98530790>"
      ]
     },
     "execution_count": 42,
     "metadata": {},
     "output_type": "execute_result"
    }
   ],
   "source": [
    "# Set the random seed\n",
    "tf.random.set_seed(42)\n",
    "\n",
    "# Create the model\n",
    "model_3 = tf.keras.Sequential([\n",
    "    tf.keras.layers.Dense(1,input_shape=[1]),\n",
    "    tf.keras.layers.Dense(1)\n",
    "])\n",
    "\n",
    "# COmpile the model\n",
    "model_3.compile(loss=tf.keras.losses.mae,\n",
    "                optimizer=tf.keras.optimizers.SGD(),\n",
    "                metrics = [\"mae\"])\n",
    "\n",
    "# Fit the model\n",
    "model_3.fit(X_train,Y_train, epochs = 500, verbose=0)"
   ]
  },
  {
   "cell_type": "code",
   "execution_count": 45,
   "id": "a0f8141f-a197-4344-a2de-315029fd497c",
   "metadata": {},
   "outputs": [
    {
     "name": "stdout",
     "output_type": "stream",
     "text": [
      "1/1 [==============================] - 0s 11ms/step\n"
     ]
    },
    {
     "data": {
      "image/png": "[encoded data removed]",
      "text/plain": [
       "<Figure size 720x504 with 1 Axes>"
      ]
     },
     "metadata": {
      "needs_background": "light"
     },
     "output_type": "display_data"
    }
   ],
   "source": [
    "# Make and plot predictions for model_3\n",
    "Y_pred_3 = model_3.predict(X_test)\n",
    "plot_predictions(predictions = Y_pred_3)"
   ]
  },
  {
   "cell_type": "code",
   "execution_count": 47,
   "id": "3549c4ae-2592-4d2b-a5d3-79c282626ec3",
   "metadata": {},
   "outputs": [
    {
     "data": {
      "text/plain": [
       "(<tf.Tensor: shape=(), dtype=float32, numpy=68.68785>,\n",
       " <tf.Tensor: shape=(), dtype=float32, numpy=68.68785>)"
      ]
     },
     "execution_count": 47,
     "metadata": {},
     "output_type": "execute_result"
    }
   ],
   "source": [
    "# calculate model 3 evaluation metrics\n",
    "mae_3 = mae(Y_test,Y_pred_3)\n",
    "mse_3 = mae(Y_test,Y_pred_3)\n",
    "mae_3,mse_3"
   ]
  },
  {
   "cell_type": "markdown",
   "id": "29d63fd2-8e55-4c78-b5f2-bec28f7a9aba",
   "metadata": {},
   "source": [
    "# Comparing the results of our experiments #"
   ]
  },
  {
   "cell_type": "code",
   "execution_count": 52,
   "id": "414ab800-9082-4e2c-adf9-6371681ff2af",
   "metadata": {},
   "outputs": [
    {
     "data": {
      "text/html": [
       "<div>\n",
       "<style scoped>\n",
       "    .dataframe tbody tr th:only-of-type {\n",
       "        vertical-align: middle;\n",
       "    }\n",
       "\n",
       "    .dataframe tbody tr th {\n",
       "        vertical-align: top;\n",
       "    }\n",
       "\n",
       "    .dataframe thead th {\n",
       "        text-align: right;\n",
       "    }\n",
       "</style>\n",
       "<table border=\"1\" class=\"dataframe\">\n",
       "  <thead>\n",
       "    <tr style=\"text-align: right;\">\n",
       "      <th></th>\n",
       "      <th>Model</th>\n",
       "      <th>mae</th>\n",
       "      <th>mse</th>\n",
       "    </tr>\n",
       "  </thead>\n",
       "  <tbody>\n",
       "    <tr>\n",
       "      <th>0</th>\n",
       "      <td>model_1</td>\n",
       "      <td>12.960938</td>\n",
       "      <td>168.267502</td>\n",
       "    </tr>\n",
       "    <tr>\n",
       "      <th>1</th>\n",
       "      <td>model_2</td>\n",
       "      <td>1.909762</td>\n",
       "      <td>1.909762</td>\n",
       "    </tr>\n",
       "    <tr>\n",
       "      <th>2</th>\n",
       "      <td>model_3</td>\n",
       "      <td>68.687851</td>\n",
       "      <td>68.687851</td>\n",
       "    </tr>\n",
       "  </tbody>\n",
       "</table>\n",
       "</div>"
      ],
      "text/plain": [
       "     Model        mae         mse\n",
       "0  model_1  12.960938  168.267502\n",
       "1  model_2   1.909762    1.909762\n",
       "2  model_3  68.687851   68.687851"
      ]
     },
     "execution_count": 52,
     "metadata": {},
     "output_type": "execute_result"
    }
   ],
   "source": [
    "# Lets compare model results using pandas DataFrame\n",
    "import pandas as pd\n",
    "\n",
    "model_results = [[\"model_1\",mae_1.numpy(),mse_1.numpy()],\n",
    "                 [\"model_2\",mae_2.numpy(),mae_2.numpy()],\n",
    "                 [\"model_3\",mae_3.numpy(),mse_3.numpy()]]\n",
    "\n",
    "all_results = pd.DataFrame(model_results, columns=[\"Model\",\"mae\",\"mse\"])\n",
    "all_results"
   ]
  },
  {
   "cell_type": "code",
   "execution_count": 53,
   "id": "2553ef1c-4eef-41c5-9eda-31c982e63328",
   "metadata": {},
   "outputs": [
    {
     "name": "stdout",
     "output_type": "stream",
     "text": [
      "Model: \"sequential_5\"\n",
      "_________________________________________________________________\n",
      " Layer (type)                Output Shape              Param #   \n",
      "=================================================================\n",
      " dense_9 (Dense)             (None, 1)                 2         \n",
      "                                                                 \n",
      " dense_10 (Dense)            (None, 1)                 2         \n",
      "                                                                 \n",
      "=================================================================\n",
      "Total params: 4\n",
      "Trainable params: 4\n",
      "Non-trainable params: 0\n",
      "_________________________________________________________________\n"
     ]
    }
   ],
   "source": [
    "model_2.summary()"
   ]
  },
  {
   "cell_type": "code",
   "execution_count": null,
   "id": "4460f74e-c2ec-45f0-addb-d7fd9cc981d9",
   "metadata": {},
   "outputs": [],
   "source": []
  }
 ],
 "metadata": {
  "kernelspec": {
   "display_name": "py3env",
   "language": "python",
   "name": "py3env"
  },
  "language_info": {
   "codemirror_mode": {
    "name": "ipython",
    "version": 3
   },
   "file_extension": ".py",
   "mimetype": "text/x-python",
   "name": "python",
   "nbconvert_exporter": "python",
   "pygments_lexer": "ipython3",
   "version": "3.8.10"
  }
 },
 "nbformat": 4,
 "nbformat_minor": 5
}
