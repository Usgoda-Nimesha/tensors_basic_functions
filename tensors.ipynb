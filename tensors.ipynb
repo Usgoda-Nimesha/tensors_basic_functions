{
 "cells": [
  {
   "cell_type": "code",
   "execution_count": 1,
   "id": "0de1ddba-05b2-49fa-8431-2ebc2fbbb709",
   "metadata": {},
   "outputs": [
    {
     "name": "stderr",
     "output_type": "stream",
     "text": [
      "2022-06-26 07:41:02.013603: I tensorflow/core/util/util.cc:169] oneDNN custom operations are on. You may see slightly different numerical results due to floating-point round-off errors from different computation orders. To turn them off, set the environment variable `TF_ENABLE_ONEDNN_OPTS=0`.\n"
     ]
    }
   ],
   "source": [
    "import tensorflow as tf\n",
    "from tensorflow import random\n",
    "import numpy as np\n",
    "import tensorflow_probability as tfp"
   ]
  },
  {
   "cell_type": "markdown",
   "id": "648cb434-9aa4-4a09-96e1-deb32ebeeee7",
   "metadata": {
    "jp-MarkdownHeadingCollapsed": true,
    "tags": []
   },
   "source": [
    "# Creating Tensors with tf.constant() #"
   ]
  },
  {
   "cell_type": "code",
   "execution_count": null,
   "id": "816da636-55b6-4aa7-974a-2d66813e306a",
   "metadata": {},
   "outputs": [
    {
     "data": {
      "text/plain": [
       "<tf.Tensor: shape=(), dtype=int32, numpy=7>"
      ]
     },
     "execution_count": 17,
     "metadata": {},
     "output_type": "execute_result"
    }
   ],
   "source": [
    "# Creating tensors with tf.constant\n",
    "scalar = tf.constant(7)\n",
    "scalar"
   ]
  },
  {
   "cell_type": "code",
   "execution_count": 18,
   "id": "526bb4da-36a8-405a-9ca0-0d6550765a20",
   "metadata": {},
   "outputs": [
    {
     "data": {
      "text/plain": [
       "0"
      ]
     },
     "execution_count": 18,
     "metadata": {},
     "output_type": "execute_result"
    }
   ],
   "source": [
    "# check the no of dimensions of a tensor (ndim stands for number of dimensions)\n",
    "scalar.ndim"
   ]
  },
  {
   "cell_type": "code",
   "execution_count": 19,
   "id": "bbd0b4d3-da5d-491f-9f1e-d65e069e940c",
   "metadata": {},
   "outputs": [
    {
     "data": {
      "text/plain": [
       "<tf.Tensor: shape=(4,), dtype=int32, numpy=array([10, 10,  6,  7], dtype=int32)>"
      ]
     },
     "execution_count": 19,
     "metadata": {},
     "output_type": "execute_result"
    }
   ],
   "source": [
    "# Create a vector\n",
    "vector = tf.constant([10,10,6,7])\n",
    "vector"
   ]
  },
  {
   "cell_type": "code",
   "execution_count": 20,
   "id": "f4250d91-121a-4ed3-aee5-0292e5de3434",
   "metadata": {},
   "outputs": [
    {
     "data": {
      "text/plain": [
       "1"
      ]
     },
     "execution_count": 20,
     "metadata": {},
     "output_type": "execute_result"
    }
   ],
   "source": [
    "# Check the dimension of a vector\n",
    "vector.ndim"
   ]
  },
  {
   "cell_type": "code",
   "execution_count": 21,
   "id": "6547da34-3660-42ec-822a-915d64cb7a37",
   "metadata": {},
   "outputs": [
    {
     "data": {
      "text/plain": [
       "<tf.Tensor: shape=(2, 2), dtype=int32, numpy=\n",
       "array([[10,  7],\n",
       "       [ 7, 10]], dtype=int32)>"
      ]
     },
     "execution_count": 21,
     "metadata": {},
     "output_type": "execute_result"
    }
   ],
   "source": [
    "# Create a matrix\n",
    "matrix = tf.constant([[10, 7], [7,10]])\n",
    "matrix"
   ]
  },
  {
   "cell_type": "code",
   "execution_count": 22,
   "id": "d07e65c0-7ed9-4654-a96a-e60a3cf43c09",
   "metadata": {},
   "outputs": [
    {
     "data": {
      "text/plain": [
       "2"
      ]
     },
     "execution_count": 22,
     "metadata": {},
     "output_type": "execute_result"
    }
   ],
   "source": [
    "matrix.ndim"
   ]
  },
  {
   "cell_type": "code",
   "execution_count": 23,
   "id": "3fe08175-8b43-4816-b4fa-361886e5de8f",
   "metadata": {},
   "outputs": [
    {
     "data": {
      "text/plain": [
       "<tf.Tensor: shape=(3, 2), dtype=float16, numpy=\n",
       "array([[10.,  7.],\n",
       "       [ 7., 10.],\n",
       "       [ 5.,  6.]], dtype=float16)>"
      ]
     },
     "execution_count": 23,
     "metadata": {},
     "output_type": "execute_result"
    }
   ],
   "source": [
    "# Create another matrix\n",
    "matrix2 = tf.constant([[10, 7], [7,10],[5,6]],dtype=tf.float16)\n",
    "matrix2"
   ]
  },
  {
   "cell_type": "code",
   "execution_count": 24,
   "id": "1e190528-f683-46f6-8e0e-387b79ced520",
   "metadata": {},
   "outputs": [
    {
     "data": {
      "text/plain": [
       "2"
      ]
     },
     "execution_count": 24,
     "metadata": {},
     "output_type": "execute_result"
    }
   ],
   "source": [
    "matrix2.ndim"
   ]
  },
  {
   "cell_type": "code",
   "execution_count": 25,
   "id": "a1f01f62-a24d-4dad-b133-091d8bff9633",
   "metadata": {
    "tags": []
   },
   "outputs": [
    {
     "data": {
      "text/plain": [
       "<tf.Tensor: shape=(3, 2, 3), dtype=int32, numpy=\n",
       "array([[[ 1,  2,  3],\n",
       "        [ 4,  5,  6]],\n",
       "\n",
       "       [[ 7,  8,  9],\n",
       "        [12, 13, 14]],\n",
       "\n",
       "       [[13, 15, 16],\n",
       "        [16, 17, 18]]], dtype=int32)>"
      ]
     },
     "execution_count": 25,
     "metadata": {},
     "output_type": "execute_result"
    }
   ],
   "source": [
    "tensor = tf.constant([[[1,2,3],\n",
    "                      [4,5,6]],\n",
    "                      [[7,8,9],\n",
    "                      [12,13,14]],\n",
    "                      [[13,15,16],\n",
    "                       [16,17,18]]]\n",
    "                      )\n",
    "tensor\n",
    "                   "
   ]
  },
  {
   "cell_type": "code",
   "execution_count": 26,
   "id": "4b3abb1e-2bcb-42c7-860c-d670287dcbf4",
   "metadata": {},
   "outputs": [
    {
     "data": {
      "text/plain": [
       "3"
      ]
     },
     "execution_count": 26,
     "metadata": {},
     "output_type": "execute_result"
    }
   ],
   "source": [
    "tensor.ndim"
   ]
  },
  {
   "cell_type": "markdown",
   "id": "83b0021b-3080-404a-866a-9dddbdb52564",
   "metadata": {
    "jp-MarkdownHeadingCollapsed": true,
    "tags": []
   },
   "source": [
    "# Creating tensors with tf variable #"
   ]
  },
  {
   "cell_type": "code",
   "execution_count": 27,
   "id": "8c6348cb-af00-4967-b9b7-d3a0cbe3662a",
   "metadata": {},
   "outputs": [
    {
     "data": {
      "text/plain": [
       "(<tf.Variable 'Variable:0' shape=(2,) dtype=int32, numpy=array([10,  7], dtype=int32)>,\n",
       " <tf.Tensor: shape=(1, 2), dtype=int32, numpy=array([[10,  7]], dtype=int32)>)"
      ]
     },
     "execution_count": 27,
     "metadata": {},
     "output_type": "execute_result"
    }
   ],
   "source": [
    "ctensor = tf.Variable([10, 7])\n",
    "utensor = tf.constant([[10, 7]])\n",
    "ctensor,utensor"
   ]
  },
  {
   "cell_type": "code",
   "execution_count": 28,
   "id": "f429a757-a36c-4c87-bad5-bed4c6fc1078",
   "metadata": {},
   "outputs": [
    {
     "data": {
      "text/plain": [
       "<tf.Variable 'UnreadVariable' shape=(2,) dtype=int32, numpy=array([7, 7], dtype=int32)>"
      ]
     },
     "execution_count": 28,
     "metadata": {},
     "output_type": "execute_result"
    }
   ],
   "source": [
    "# Change elements in one of the elements in our changeble tensor\n",
    "ctensor[0].assign(7)"
   ]
  },
  {
   "cell_type": "code",
   "execution_count": null,
   "id": "e5a786df-ef38-4352-8120-c77937185499",
   "metadata": {},
   "outputs": [],
   "source": [
    "# Change elements in one of the elements in our un-changeble tensor\n",
    "utensor[0].assign(7)"
   ]
  },
  {
   "cell_type": "markdown",
   "id": "d4d4a81d-5f5f-4ed0-9e11-887aa149c72c",
   "metadata": {
    "jp-MarkdownHeadingCollapsed": true,
    "tags": []
   },
   "source": [
    "# Creating Random tensors<br>\n",
    "Random tensors are tensors of some arbitary size which contain random numbers"
   ]
  },
  {
   "cell_type": "code",
   "execution_count": 30,
   "id": "1f95b8ee-164e-4f14-bd57-c778319cf512",
   "metadata": {},
   "outputs": [
    {
     "data": {
      "text/plain": [
       "<tf.Tensor: shape=(3, 2), dtype=float32, numpy=\n",
       "array([[-0.7565803 , -0.06854702],\n",
       "       [ 0.07595026, -1.2573844 ],\n",
       "       [-0.23193763, -1.8107855 ]], dtype=float32)>"
      ]
     },
     "execution_count": 30,
     "metadata": {},
     "output_type": "execute_result"
    }
   ],
   "source": [
    "#Create two random (but the same) tensors\n",
    "random1 = tf.random.Generator.from_seed(42)\n",
    "random1 = random1.normal(shape=(3,2))\n",
    "random1"
   ]
  },
  {
   "cell_type": "code",
   "execution_count": 31,
   "id": "0ce332da-7ef4-4350-ac26-8e8c3025a841",
   "metadata": {},
   "outputs": [
    {
     "data": {
      "text/plain": [
       "<tf.Tensor: shape=(3, 2), dtype=float32, numpy=\n",
       "array([[-0.7565803 , -0.06854702],\n",
       "       [ 0.07595026, -1.2573844 ],\n",
       "       [-0.23193763, -1.8107855 ]], dtype=float32)>"
      ]
     },
     "execution_count": 31,
     "metadata": {},
     "output_type": "execute_result"
    }
   ],
   "source": [
    "random2 = tf.random.Generator.from_seed(42)\n",
    "random2 = random2.normal(shape=(3,2))\n",
    "random2"
   ]
  },
  {
   "cell_type": "code",
   "execution_count": 32,
   "id": "2fe1d93f-0a58-49ce-8b17-da997224ac8c",
   "metadata": {},
   "outputs": [
    {
     "data": {
      "text/plain": [
       "<tf.Tensor: shape=(3, 2), dtype=bool, numpy=\n",
       "array([[ True,  True],\n",
       "       [ True,  True],\n",
       "       [ True,  True]])>"
      ]
     },
     "execution_count": 32,
     "metadata": {},
     "output_type": "execute_result"
    }
   ],
   "source": [
    "# Are they equal?\n",
    "random1==random2"
   ]
  },
  {
   "cell_type": "markdown",
   "id": "626ee01d-9986-41f9-915c-2cada0103e19",
   "metadata": {
    "jp-MarkdownHeadingCollapsed": true,
    "tags": []
   },
   "source": [
    "# Shuffle the order of tensors (Valueble for when you want to shuffle your data so the inherent order dosent effect learning) #"
   ]
  },
  {
   "cell_type": "code",
   "execution_count": 33,
   "id": "ffcc2440-7877-4770-9e59-f30002194f2f",
   "metadata": {},
   "outputs": [
    {
     "data": {
      "text/plain": [
       "<tf.Tensor: shape=(3, 2), dtype=int32, numpy=\n",
       "array([[10,  7],\n",
       "       [ 2,  5],\n",
       "       [ 3,  4]], dtype=int32)>"
      ]
     },
     "execution_count": 33,
     "metadata": {},
     "output_type": "execute_result"
    }
   ],
   "source": [
    "# not shuffled\n",
    "nshuffled = tf.constant([[10,7],\n",
    "                        [3,4],\n",
    "                        [2,5]])\n",
    "tf.random.shuffle(nshuffled)"
   ]
  },
  {
   "cell_type": "code",
   "execution_count": 34,
   "id": "5ac45b91-882d-4769-ac20-a835e911fc67",
   "metadata": {},
   "outputs": [
    {
     "data": {
      "text/plain": [
       "<tf.Tensor: shape=(3, 2), dtype=int32, numpy=\n",
       "array([[10,  7],\n",
       "       [ 3,  4],\n",
       "       [ 2,  5]], dtype=int32)>"
      ]
     },
     "execution_count": 34,
     "metadata": {},
     "output_type": "execute_result"
    }
   ],
   "source": [
    "tf.random.set_seed(42) # Global random seed\n",
    "tf.random.shuffle(nshuffled,seed=42) # Operational seed"
   ]
  },
  {
   "cell_type": "code",
   "execution_count": 35,
   "id": "d75f0e73-360e-44a5-9fbc-21c8cd11c944",
   "metadata": {},
   "outputs": [
    {
     "data": {
      "text/plain": [
       "<tf.Tensor: shape=(3, 2), dtype=int32, numpy=\n",
       "array([[10,  7],\n",
       "       [ 3,  4],\n",
       "       [ 2,  5]], dtype=int32)>"
      ]
     },
     "execution_count": 35,
     "metadata": {},
     "output_type": "execute_result"
    }
   ],
   "source": [
    "nshuffled"
   ]
  },
  {
   "cell_type": "code",
   "execution_count": 36,
   "id": "8f5dd84f-bd2a-4fff-b7ca-cd1d9a6a2e9f",
   "metadata": {},
   "outputs": [
    {
     "data": {
      "text/plain": [
       "<tf.Tensor: shape=(3, 4), dtype=float32, numpy=\n",
       "array([[1., 1., 1., 1.],\n",
       "       [1., 1., 1., 1.],\n",
       "       [1., 1., 1., 1.]], dtype=float32)>"
      ]
     },
     "execution_count": 36,
     "metadata": {},
     "output_type": "execute_result"
    }
   ],
   "source": [
    "# create a tensor with all ones\n",
    "tf.ones([3,4])"
   ]
  },
  {
   "cell_type": "code",
   "execution_count": 37,
   "id": "7a0331d4-4be6-4c3f-86fa-aa96805ca364",
   "metadata": {},
   "outputs": [
    {
     "data": {
      "text/plain": [
       "<tf.Tensor: shape=(3, 4), dtype=float32, numpy=\n",
       "array([[0., 0., 0., 0.],\n",
       "       [0., 0., 0., 0.],\n",
       "       [0., 0., 0., 0.]], dtype=float32)>"
      ]
     },
     "execution_count": 37,
     "metadata": {},
     "output_type": "execute_result"
    }
   ],
   "source": [
    "tf.zeros([3,4])"
   ]
  },
  {
   "cell_type": "markdown",
   "id": "99d4cbf3-009b-44e5-a69f-11233910d802",
   "metadata": {
    "tags": []
   },
   "source": [
    "# TURN NUMPY ARRAYS INTO TENSORS <br>\n",
    "The main difference between them is that tensors can be run on a GPU (much faster for numerical computing)"
   ]
  },
  {
   "cell_type": "code",
   "execution_count": 38,
   "id": "2e7f5b1f-86a5-4cc8-a175-3e52ab142a30",
   "metadata": {},
   "outputs": [
    {
     "data": {
      "text/plain": [
       "array([ 1,  2,  3,  4,  5,  6,  7,  8,  9, 10, 11, 12, 13, 14, 15, 16, 17,\n",
       "       18, 19, 20, 21, 22, 23, 24], dtype=int32)"
      ]
     },
     "execution_count": 38,
     "metadata": {},
     "output_type": "execute_result"
    }
   ],
   "source": [
    "# Create numpy array between 1 and 25\n",
    "numpyA = np.arange(1,25, dtype=np.int32)\n",
    "numpyA"
   ]
  },
  {
   "cell_type": "code",
   "execution_count": 39,
   "id": "151aed97-6d31-4ba4-a84d-7ba0a19cd3e9",
   "metadata": {},
   "outputs": [
    {
     "data": {
      "text/plain": [
       "<tf.Tensor: shape=(2, 3, 4), dtype=int32, numpy=\n",
       "array([[[ 1,  2,  3,  4],\n",
       "        [ 5,  6,  7,  8],\n",
       "        [ 9, 10, 11, 12]],\n",
       "\n",
       "       [[13, 14, 15, 16],\n",
       "        [17, 18, 19, 20],\n",
       "        [21, 22, 23, 24]]], dtype=int32)>"
      ]
     },
     "execution_count": 39,
     "metadata": {},
     "output_type": "execute_result"
    }
   ],
   "source": [
    "A = tf.constant(numpyA,shape=(2,3,4))\n",
    "A.ndim\n",
    "A"
   ]
  },
  {
   "cell_type": "markdown",
   "id": "81be0215-0a8e-4e27-a084-87f3dba31299",
   "metadata": {
    "jp-MarkdownHeadingCollapsed": true,
    "tags": []
   },
   "source": [
    "# Getting information from tensors #"
   ]
  },
  {
   "cell_type": "code",
   "execution_count": 40,
   "id": "41548eb9-1493-4572-accc-8aa58889fe10",
   "metadata": {},
   "outputs": [
    {
     "data": {
      "text/plain": [
       "<tf.Tensor: shape=(2, 3, 4, 5), dtype=float32, numpy=\n",
       "array([[[[0., 0., 0., 0., 0.],\n",
       "         [0., 0., 0., 0., 0.],\n",
       "         [0., 0., 0., 0., 0.],\n",
       "         [0., 0., 0., 0., 0.]],\n",
       "\n",
       "        [[0., 0., 0., 0., 0.],\n",
       "         [0., 0., 0., 0., 0.],\n",
       "         [0., 0., 0., 0., 0.],\n",
       "         [0., 0., 0., 0., 0.]],\n",
       "\n",
       "        [[0., 0., 0., 0., 0.],\n",
       "         [0., 0., 0., 0., 0.],\n",
       "         [0., 0., 0., 0., 0.],\n",
       "         [0., 0., 0., 0., 0.]]],\n",
       "\n",
       "\n",
       "       [[[0., 0., 0., 0., 0.],\n",
       "         [0., 0., 0., 0., 0.],\n",
       "         [0., 0., 0., 0., 0.],\n",
       "         [0., 0., 0., 0., 0.]],\n",
       "\n",
       "        [[0., 0., 0., 0., 0.],\n",
       "         [0., 0., 0., 0., 0.],\n",
       "         [0., 0., 0., 0., 0.],\n",
       "         [0., 0., 0., 0., 0.]],\n",
       "\n",
       "        [[0., 0., 0., 0., 0.],\n",
       "         [0., 0., 0., 0., 0.],\n",
       "         [0., 0., 0., 0., 0.],\n",
       "         [0., 0., 0., 0., 0.]]]], dtype=float32)>"
      ]
     },
     "execution_count": 40,
     "metadata": {},
     "output_type": "execute_result"
    }
   ],
   "source": [
    "# Create a rank 4 tensor\n",
    "rank4t = tf.zeros(shape=[2,3,4,5])\n",
    "rank4t"
   ]
  },
  {
   "cell_type": "code",
   "execution_count": 41,
   "id": "9c5eadf0-6896-4d64-a642-b3b1a6f87db6",
   "metadata": {},
   "outputs": [
    {
     "data": {
      "text/plain": [
       "<tf.Tensor: shape=(3, 4, 5), dtype=float32, numpy=\n",
       "array([[[0., 0., 0., 0., 0.],\n",
       "        [0., 0., 0., 0., 0.],\n",
       "        [0., 0., 0., 0., 0.],\n",
       "        [0., 0., 0., 0., 0.]],\n",
       "\n",
       "       [[0., 0., 0., 0., 0.],\n",
       "        [0., 0., 0., 0., 0.],\n",
       "        [0., 0., 0., 0., 0.],\n",
       "        [0., 0., 0., 0., 0.]],\n",
       "\n",
       "       [[0., 0., 0., 0., 0.],\n",
       "        [0., 0., 0., 0., 0.],\n",
       "        [0., 0., 0., 0., 0.],\n",
       "        [0., 0., 0., 0., 0.]]], dtype=float32)>"
      ]
     },
     "execution_count": 41,
     "metadata": {},
     "output_type": "execute_result"
    }
   ],
   "source": [
    "rank4t[0]"
   ]
  },
  {
   "cell_type": "code",
   "execution_count": 42,
   "id": "48c64dac-abe6-4aea-9f6f-aea99fdcacb2",
   "metadata": {},
   "outputs": [
    {
     "data": {
      "text/plain": [
       "(TensorShape([2, 3, 4, 5]), 4, <tf.Tensor: shape=(), dtype=int32, numpy=120>)"
      ]
     },
     "execution_count": 42,
     "metadata": {},
     "output_type": "execute_result"
    }
   ],
   "source": [
    "rank4t.shape , rank4t.ndim, tf.size(rank4t)"
   ]
  },
  {
   "cell_type": "markdown",
   "id": "c0e6e9d0-c8d7-4f15-a4ae-5020438f141b",
   "metadata": {
    "jp-MarkdownHeadingCollapsed": true,
    "tags": []
   },
   "source": [
    "# Get various attributes of the tensor #"
   ]
  },
  {
   "cell_type": "code",
   "execution_count": 43,
   "id": "f36dc087-70b3-4f14-a42f-3d568fb44367",
   "metadata": {},
   "outputs": [
    {
     "name": "stdout",
     "output_type": "stream",
     "text": [
      "Data type of every element:  <dtype: 'float32'>\n",
      "Number of dimensions:  4\n",
      "shape of tensor:  (2, 3, 4, 5)\n",
      "Elements along zeroth axis:  2\n",
      "Elements along last axis:  5\n",
      "Total number of elements:  120\n"
     ]
    }
   ],
   "source": [
    "print(\"Data type of every element: \",rank4t.dtype)\n",
    "print(\"Number of dimensions: \", rank4t.ndim)\n",
    "print(\"shape of tensor: \",rank4t.shape)\n",
    "print(\"Elements along zeroth axis: \",rank4t.shape[0])\n",
    "print(\"Elements along last axis: \",rank4t.shape[-1])\n",
    "print(\"Total number of elements: \",tf.size(rank4t).numpy())"
   ]
  },
  {
   "cell_type": "markdown",
   "id": "938ce863-e695-4c51-a3c5-edeb77f14c40",
   "metadata": {
    "jp-MarkdownHeadingCollapsed": true,
    "tags": []
   },
   "source": [
    "# Indexing tensors\n",
    "Tensors can be indexed like python lists"
   ]
  },
  {
   "cell_type": "code",
   "execution_count": 44,
   "id": "f23f27ec-50cb-402a-b876-f8050f10c9d3",
   "metadata": {},
   "outputs": [
    {
     "data": {
      "text/plain": [
       "<tf.Tensor: shape=(2, 2, 2, 2), dtype=float32, numpy=\n",
       "array([[[[0., 0.],\n",
       "         [0., 0.]],\n",
       "\n",
       "        [[0., 0.],\n",
       "         [0., 0.]]],\n",
       "\n",
       "\n",
       "       [[[0., 0.],\n",
       "         [0., 0.]],\n",
       "\n",
       "        [[0., 0.],\n",
       "         [0., 0.]]]], dtype=float32)>"
      ]
     },
     "execution_count": 44,
     "metadata": {},
     "output_type": "execute_result"
    }
   ],
   "source": [
    "# Get the first 2 elements of each dimension\n",
    "rank4t[:2,:2,:2,:2]"
   ]
  },
  {
   "cell_type": "code",
   "execution_count": 49,
   "id": "55ca4649-3a52-4c6b-8a01-fa16ffef20ae",
   "metadata": {},
   "outputs": [
    {
     "data": {
      "text/plain": [
       "<tf.Tensor: shape=(1, 1, 1, 5), dtype=float32, numpy=array([[[[0., 0., 0., 0., 0.]]]], dtype=float32)>"
      ]
     },
     "execution_count": 49,
     "metadata": {},
     "output_type": "execute_result"
    }
   ],
   "source": [
    "# Get the first element from each dimension from each index except the final one\n",
    "rank4t[:1,:1,:1]"
   ]
  },
  {
   "cell_type": "code",
   "execution_count": 50,
   "id": "eefa28ce-5426-431d-8770-c04b1622590e",
   "metadata": {},
   "outputs": [],
   "source": [
    "# Create a rank 2 tensor (2 dimensions)\n",
    "rank2t = tf.constant([[1,2],[3,4]])"
   ]
  },
  {
   "cell_type": "code",
   "execution_count": 71,
   "id": "aa8393db-6221-4f41-9380-a58160cf649a",
   "metadata": {},
   "outputs": [
    {
     "data": {
      "text/plain": [
       "<tf.Tensor: shape=(2,), dtype=int32, numpy=array([2, 4], dtype=int32)>"
      ]
     },
     "execution_count": 71,
     "metadata": {},
     "output_type": "execute_result"
    }
   ],
   "source": [
    "# Get the last item of each row of the tensor\n",
    "rank2t[:,-1]"
   ]
  },
  {
   "cell_type": "code",
   "execution_count": 57,
   "id": "ff3530f8-d761-4723-a485-082b47cc6be6",
   "metadata": {},
   "outputs": [
    {
     "data": {
      "text/plain": [
       "<tf.Tensor: shape=(2, 2), dtype=int32, numpy=\n",
       "array([[1, 2],\n",
       "       [3, 4]], dtype=int32)>"
      ]
     },
     "execution_count": 66,
     "metadata": {},
     "output_type": "execute_result"
    }
   ],
   "source": [
    "rank2t"
   ]
  },
  {
   "cell_type": "code",
   "execution_count": 72,
   "id": "5813a52b-76ea-4619-b176-5417897ccd02",
   "metadata": {},
   "outputs": [
    {
     "data": {
      "text/plain": [
       "<tf.Tensor: shape=(2, 2, 1), dtype=int32, numpy=\n",
       "array([[[1],\n",
       "        [2]],\n",
       "\n",
       "       [[3],\n",
       "        [4]]], dtype=int32)>"
      ]
     },
     "execution_count": 72,
     "metadata": {},
     "output_type": "execute_result"
    }
   ],
   "source": [
    "# Add extra dimension to our rank2 tensor \n",
    "rank3t = rank2t[...,tf.newaxis]\n",
    "rank3t"
   ]
  },
  {
   "cell_type": "markdown",
   "id": "2475cade-61f3-460e-8141-6e36cf58d8a3",
   "metadata": {
    "jp-MarkdownHeadingCollapsed": true,
    "tags": []
   },
   "source": [
    "# Alternative to tf.newaxis"
   ]
  },
  {
   "cell_type": "code",
   "execution_count": 74,
   "id": "35beed73-ef43-4875-a510-4f3d433795b0",
   "metadata": {},
   "outputs": [
    {
     "data": {
      "text/plain": [
       "<tf.Tensor: shape=(2, 2, 1), dtype=int32, numpy=\n",
       "array([[[1],\n",
       "        [2]],\n",
       "\n",
       "       [[3],\n",
       "        [4]]], dtype=int32)>"
      ]
     },
     "execution_count": 74,
     "metadata": {},
     "output_type": "execute_result"
    }
   ],
   "source": [
    "tf.expand_dims(rank2t,axis=-1)"
   ]
  },
  {
   "cell_type": "code",
   "execution_count": 75,
   "id": "be40e1a2-7346-4631-b143-7cc2ba29ab1a",
   "metadata": {},
   "outputs": [
    {
     "data": {
      "text/plain": [
       "<tf.Tensor: shape=(1, 2, 2), dtype=int32, numpy=\n",
       "array([[[1, 2],\n",
       "        [3, 4]]], dtype=int32)>"
      ]
     },
     "execution_count": 75,
     "metadata": {},
     "output_type": "execute_result"
    }
   ],
   "source": [
    "tf.expand_dims(rank2t,axis=0)"
   ]
  },
  {
   "cell_type": "markdown",
   "id": "e55bb9d1-eede-4062-8453-8d5046ad618a",
   "metadata": {
    "jp-MarkdownHeadingCollapsed": true,
    "tags": []
   },
   "source": [
    "# Manipulating tensors (tensor operations)"
   ]
  },
  {
   "cell_type": "markdown",
   "id": "71bc4baa-8fc0-4224-b09e-c7d14f06dc8f",
   "metadata": {},
   "source": [
    "**Basic operations**"
   ]
  },
  {
   "cell_type": "code",
   "execution_count": 76,
   "id": "41698d85-7ca3-4956-b45b-4d91a366938c",
   "metadata": {},
   "outputs": [
    {
     "data": {
      "text/plain": [
       "<tf.Tensor: shape=(2, 2), dtype=int32, numpy=\n",
       "array([[20, 17],\n",
       "       [13, 14]], dtype=int32)>"
      ]
     },
     "execution_count": 76,
     "metadata": {},
     "output_type": "execute_result"
    }
   ],
   "source": [
    "# You can add values to a tensor using the addition operator\n",
    "tensor = tf.constant([[10,7],[3,4]])\n",
    "tensor +10"
   ]
  },
  {
   "cell_type": "code",
   "execution_count": 77,
   "id": "14b8fbf9-9104-4400-acaf-ca80c4610945",
   "metadata": {},
   "outputs": [
    {
     "data": {
      "text/plain": [
       "<tf.Tensor: shape=(2, 2), dtype=int32, numpy=\n",
       "array([[100,  70],\n",
       "       [ 30,  40]], dtype=int32)>"
      ]
     },
     "execution_count": 77,
     "metadata": {},
     "output_type": "execute_result"
    }
   ],
   "source": [
    "# Multiplication\n",
    "tensor*10"
   ]
  },
  {
   "cell_type": "code",
   "execution_count": 78,
   "id": "dbc55e07-fd91-4f8e-aaba-61a02ffb35cb",
   "metadata": {},
   "outputs": [
    {
     "data": {
      "text/plain": [
       "<tf.Tensor: shape=(2, 2), dtype=int32, numpy=\n",
       "array([[ 0, -3],\n",
       "       [-7, -6]], dtype=int32)>"
      ]
     },
     "execution_count": 78,
     "metadata": {},
     "output_type": "execute_result"
    }
   ],
   "source": [
    "# Substraction\n",
    "tensor - 10"
   ]
  },
  {
   "cell_type": "code",
   "execution_count": 79,
   "id": "b226ff37-c72d-4b2c-aa0a-b4175a21ffbb",
   "metadata": {},
   "outputs": [
    {
     "data": {
      "text/plain": [
       "<tf.Tensor: shape=(2, 2), dtype=int32, numpy=\n",
       "array([[100,  70],\n",
       "       [ 30,  40]], dtype=int32)>"
      ]
     },
     "execution_count": 79,
     "metadata": {},
     "output_type": "execute_result"
    }
   ],
   "source": [
    "# We can use the tensorflow built in function\n",
    "tf.multiply(tensor,10)"
   ]
  },
  {
   "cell_type": "markdown",
   "id": "3edf606e-1ac5-4430-ab8f-3e8c8004b68f",
   "metadata": {
    "tags": []
   },
   "source": [
    "# Matrix multiplication #"
   ]
  },
  {
   "cell_type": "markdown",
   "id": "a62bc2ad-a4db-4be4-9681-52531dcf5f0b",
   "metadata": {},
   "source": [
    "**In machine learning, matrix multiplication is one of the most common tensor operations**"
   ]
  },
  {
   "cell_type": "markdown",
   "id": "6914f98e-8084-483c-ad6e-32b0e92c6103",
   "metadata": {},
   "source": [
    "There are 2 rules that tensors(or matrices) need to fulfill if we are going to matrix multiply them:\n",
    "\n",
    "1. The inner dimensions must match\n",
    "2. The reuslting matrix has the shape of the outer dimensions\n",
    "\n",
    "free demo website - www.matrixmultiplication.xyz\n",
    "\n",
    "How to multiply matrices - https://www.mathsisfun.com/algebra/matrix-multiplying.html"
   ]
  },
  {
   "cell_type": "code",
   "execution_count": 80,
   "id": "d7108302-9660-4d70-a2e0-42a65a7d556c",
   "metadata": {},
   "outputs": [
    {
     "name": "stdout",
     "output_type": "stream",
     "text": [
      "tf.Tensor(\n",
      "[[10  7]\n",
      " [ 3  4]], shape=(2, 2), dtype=int32)\n"
     ]
    },
    {
     "data": {
      "text/plain": [
       "<tf.Tensor: shape=(2, 2), dtype=int32, numpy=\n",
       "array([[121,  98],\n",
       "       [ 42,  37]], dtype=int32)>"
      ]
     },
     "execution_count": 80,
     "metadata": {},
     "output_type": "execute_result"
    }
   ],
   "source": [
    "print(tensor)\n",
    "tf.matmul(tensor,tensor)"
   ]
  },
  {
   "cell_type": "code",
   "execution_count": 81,
   "id": "aaf400f7-72ec-409c-9953-aeeb2ef36d70",
   "metadata": {},
   "outputs": [
    {
     "data": {
      "text/plain": [
       "<tf.Tensor: shape=(2, 2), dtype=int32, numpy=\n",
       "array([[100,  49],\n",
       "       [  9,  16]], dtype=int32)>"
      ]
     },
     "execution_count": 81,
     "metadata": {},
     "output_type": "execute_result"
    }
   ],
   "source": [
    "tensor * tensor"
   ]
  },
  {
   "cell_type": "code",
   "execution_count": 82,
   "id": "e080eb56-6c76-4b36-a413-2337958ae1d7",
   "metadata": {},
   "outputs": [
    {
     "data": {
      "text/plain": [
       "<tf.Tensor: shape=(2, 2), dtype=int32, numpy=\n",
       "array([[121,  98],\n",
       "       [ 42,  37]], dtype=int32)>"
      ]
     },
     "execution_count": 82,
     "metadata": {},
     "output_type": "execute_result"
    }
   ],
   "source": [
    "# Matrix multiplication with python operator \"@\"\n",
    "tensor @ tensor"
   ]
  },
  {
   "cell_type": "code",
   "execution_count": 84,
   "id": "901db56c-0820-4358-8c1d-b1770600fce3",
   "metadata": {},
   "outputs": [],
   "source": [
    "# Create a tensor of (3,2) tensor\n",
    "X = tf.constant([[1,2],\n",
    "                [3,4],\n",
    "                [5,6]])\n",
    "# Create another (3,2) tensor\n",
    "Y = tf.constant([[7,8],\n",
    "                [9,10],\n",
    "                [11,12]])"
   ]
  },
  {
   "cell_type": "code",
   "execution_count": null,
   "id": "e566cf96-328b-4386-9157-aad6cadfd03c",
   "metadata": {},
   "outputs": [],
   "source": [
    "# Matrix multiply of tensors of same shape\n",
    "# X @ Y - will recieve error message\n",
    "# tf.matmul(X,Y) - will produce error"
   ]
  },
  {
   "cell_type": "code",
   "execution_count": 87,
   "id": "75e0fdf5-0363-4ceb-b796-8c85cc0bbd8a",
   "metadata": {},
   "outputs": [],
   "source": [
    "# Lets change the shape of y\n",
    "reshapedY = tf.reshape(Y, shape=(2,3))"
   ]
  },
  {
   "cell_type": "code",
   "execution_count": 88,
   "id": "a77a7f5c-9cb7-454d-b9e5-050e42e89bec",
   "metadata": {},
   "outputs": [
    {
     "data": {
      "text/plain": [
       "<tf.Tensor: shape=(3, 3), dtype=int32, numpy=\n",
       "array([[ 27,  30,  33],\n",
       "       [ 61,  68,  75],\n",
       "       [ 95, 106, 117]], dtype=int32)>"
      ]
     },
     "execution_count": 88,
     "metadata": {},
     "output_type": "execute_result"
    }
   ],
   "source": [
    "# Multiply x by reshape Y\n",
    "X @ reshapedY"
   ]
  },
  {
   "cell_type": "code",
   "execution_count": 90,
   "id": "23cd0cd7-2bc5-401f-a565-9dd064f21e2a",
   "metadata": {},
   "outputs": [
    {
     "data": {
      "text/plain": [
       "<tf.Tensor: shape=(3, 3), dtype=int32, numpy=\n",
       "array([[ 27,  30,  33],\n",
       "       [ 61,  68,  75],\n",
       "       [ 95, 106, 117]], dtype=int32)>"
      ]
     },
     "execution_count": 90,
     "metadata": {},
     "output_type": "execute_result"
    }
   ],
   "source": [
    "# Different method\n",
    "tf.matmul(X, tf.reshape(Y, shape=(2,3)))"
   ]
  },
  {
   "cell_type": "code",
   "execution_count": 91,
   "id": "eb76e363-4dcf-4a36-a9d9-b0639c59c099",
   "metadata": {},
   "outputs": [
    {
     "data": {
      "text/plain": [
       "<tf.Tensor: shape=(2, 2), dtype=int32, numpy=\n",
       "array([[ 58,  64],\n",
       "       [139, 154]], dtype=int32)>"
      ]
     },
     "execution_count": 91,
     "metadata": {},
     "output_type": "execute_result"
    }
   ],
   "source": [
    "# Changing the shape of X instead of Y\n",
    "tf.matmul(tf.reshape(X,shape=(2,3)),Y)"
   ]
  },
  {
   "cell_type": "code",
   "execution_count": 92,
   "id": "0f516da1-add7-4fcf-83e7-664b36852ff7",
   "metadata": {},
   "outputs": [
    {
     "data": {
      "text/plain": [
       "(<tf.Tensor: shape=(3, 2), dtype=int32, numpy=\n",
       " array([[1, 2],\n",
       "        [3, 4],\n",
       "        [5, 6]], dtype=int32)>,\n",
       " <tf.Tensor: shape=(2, 3), dtype=int32, numpy=\n",
       " array([[1, 3, 5],\n",
       "        [2, 4, 6]], dtype=int32)>,\n",
       " <tf.Tensor: shape=(2, 3), dtype=int32, numpy=\n",
       " array([[1, 2, 3],\n",
       "        [4, 5, 6]], dtype=int32)>)"
      ]
     },
     "execution_count": 92,
     "metadata": {},
     "output_type": "execute_result"
    }
   ],
   "source": [
    "# Can do the same with transpose\n",
    "X, tf.transpose(X),tf.reshape(X, shape=(2,3))"
   ]
  },
  {
   "cell_type": "code",
   "execution_count": 93,
   "id": "a30ded92-b22e-4af1-b1b2-c847b50fc0b6",
   "metadata": {},
   "outputs": [
    {
     "data": {
      "text/plain": [
       "<tf.Tensor: shape=(2, 2), dtype=int32, numpy=\n",
       "array([[ 89,  98],\n",
       "       [116, 128]], dtype=int32)>"
      ]
     },
     "execution_count": 93,
     "metadata": {},
     "output_type": "execute_result"
    }
   ],
   "source": [
    "# Try matrix multiplication with transpose rather than reshape\n",
    "tf.matmul(tf.transpose(X),Y)"
   ]
  },
  {
   "cell_type": "markdown",
   "id": "cc359d53-6f25-4c5b-b27c-a87ca58f47b7",
   "metadata": {
    "jp-MarkdownHeadingCollapsed": true,
    "tags": []
   },
   "source": [
    "# The dot product #"
   ]
  },
  {
   "cell_type": "markdown",
   "id": "4a9779ea-3811-4283-b543-dee943226129",
   "metadata": {},
   "source": [
    "Matrix multiplication is also referred to as the dot product<br>\n",
    "You can perform matrix multiplicaton using:<br>\n",
    "* `tf.matmul()`<br>\n",
    "* `tf.tesnordot()`"
   ]
  },
  {
   "cell_type": "code",
   "execution_count": 95,
   "id": "c0d34980-89a1-46eb-b88b-85db1d2f4af7",
   "metadata": {},
   "outputs": [
    {
     "data": {
      "text/plain": [
       "<tf.Tensor: shape=(2, 2), dtype=int32, numpy=\n",
       "array([[ 89,  98],\n",
       "       [116, 128]], dtype=int32)>"
      ]
     },
     "execution_count": 95,
     "metadata": {},
     "output_type": "execute_result"
    }
   ],
   "source": [
    "# Perform dot product on X and Y (Requires X or Y to be transposed)\n",
    "tf.tensordot(tf.transpose(X), Y, axes=1)"
   ]
  },
  {
   "cell_type": "code",
   "execution_count": 96,
   "id": "591deb20-1259-42b9-af49-6542f2ba4c6f",
   "metadata": {},
   "outputs": [
    {
     "data": {
      "text/plain": [
       "<tf.Tensor: shape=(2, 2), dtype=int32, numpy=\n",
       "array([[ 89, 116],\n",
       "       [ 98, 128]], dtype=int32)>"
      ]
     },
     "execution_count": 96,
     "metadata": {},
     "output_type": "execute_result"
    }
   ],
   "source": [
    "# Perform dot product on X and Y (Y transposed)\n",
    "tf.tensordot(tf.transpose(Y), X, axes=1)"
   ]
  },
  {
   "cell_type": "code",
   "execution_count": 98,
   "id": "364eea2a-6016-461e-b3c0-3a6cb801d827",
   "metadata": {},
   "outputs": [
    {
     "data": {
      "text/plain": [
       "<tf.Tensor: shape=(2, 2), dtype=int32, numpy=\n",
       "array([[ 58,  64],\n",
       "       [139, 154]], dtype=int32)>"
      ]
     },
     "execution_count": 98,
     "metadata": {},
     "output_type": "execute_result"
    }
   ],
   "source": [
    "# Perform matrix multiplication between X and Y (Reshaped)\n",
    "tf.matmul(tf.reshape(X, shape=(2,3)),Y)"
   ]
  },
  {
   "cell_type": "code",
   "execution_count": 101,
   "id": "05f489bd-8d28-4a34-8658-0088015bb172",
   "metadata": {},
   "outputs": [
    {
     "data": {
      "text/plain": [
       "<tf.Tensor: shape=(2, 2), dtype=int32, numpy=\n",
       "array([[ 89,  98],\n",
       "       [116, 128]], dtype=int32)>"
      ]
     },
     "execution_count": 101,
     "metadata": {},
     "output_type": "execute_result"
    }
   ],
   "source": [
    "# Perform matrix multiplication between X and Y (Transposed)\n",
    "tf.matmul(tf.transpose(X),Y)"
   ]
  },
  {
   "cell_type": "markdown",
   "id": "030bc658-fb74-4ff6-b317-a545dfe99291",
   "metadata": {
    "jp-MarkdownHeadingCollapsed": true,
    "tags": []
   },
   "source": [
    "# Changing the data type of a tensor #"
   ]
  },
  {
   "cell_type": "code",
   "execution_count": 3,
   "id": "b186d19a-38ef-4b1a-8e1e-26f863161c8b",
   "metadata": {},
   "outputs": [
    {
     "data": {
      "text/plain": [
       "tf.float32"
      ]
     },
     "execution_count": 3,
     "metadata": {},
     "output_type": "execute_result"
    }
   ],
   "source": [
    "B = tf.constant([1.7,7.4])\n",
    "B.dtype"
   ]
  },
  {
   "cell_type": "code",
   "execution_count": 4,
   "id": "064480a3-f839-4098-a1ae-d43fd96b15e1",
   "metadata": {},
   "outputs": [
    {
     "data": {
      "text/plain": [
       "tf.int32"
      ]
     },
     "execution_count": 4,
     "metadata": {},
     "output_type": "execute_result"
    }
   ],
   "source": [
    "C = tf.constant([7,10])\n",
    "C.dtype"
   ]
  },
  {
   "cell_type": "code",
   "execution_count": 5,
   "id": "0b0e646f-1f83-4d8c-bdef-d03f9d584c5d",
   "metadata": {},
   "outputs": [
    {
     "data": {
      "text/plain": [
       "tf.float16"
      ]
     },
     "execution_count": 5,
     "metadata": {},
     "output_type": "execute_result"
    }
   ],
   "source": [
    "# Change from float32 to float16 (Reduced precision)\n",
    "D= tf.cast(B, dtype=tf.float16)\n",
    "D.dtype"
   ]
  },
  {
   "cell_type": "code",
   "execution_count": 8,
   "id": "2d085188-903e-4163-a528-116e4e1def6b",
   "metadata": {},
   "outputs": [
    {
     "data": {
      "text/plain": [
       "tf.float32"
      ]
     },
     "execution_count": 8,
     "metadata": {},
     "output_type": "execute_result"
    }
   ],
   "source": [
    "#change from int32 to float32\n",
    "E =tf.cast(C,dtype = tf.float32)\n",
    "E.dtype"
   ]
  },
  {
   "cell_type": "markdown",
   "id": "b72cce51-a42e-4591-8c57-c7c2b77a4ff9",
   "metadata": {
    "jp-MarkdownHeadingCollapsed": true,
    "tags": []
   },
   "source": [
    "# Aggregating tensors #"
   ]
  },
  {
   "cell_type": "markdown",
   "id": "df2e1d85-06a8-4936-82f6-b80cd66b6e75",
   "metadata": {},
   "source": [
    "**Aggregating tensors = condensing them from multiple values down to a smaller amount of values**"
   ]
  },
  {
   "cell_type": "code",
   "execution_count": 9,
   "id": "46dbaf81-1c91-4296-8c37-707202554ef4",
   "metadata": {},
   "outputs": [],
   "source": [
    "# Get the absolute values\n",
    "D = tf.constant([-7,-10])"
   ]
  },
  {
   "cell_type": "code",
   "execution_count": 10,
   "id": "7a537c01-5591-439d-b245-8ec60433b759",
   "metadata": {},
   "outputs": [
    {
     "data": {
      "text/plain": [
       "<tf.Tensor: shape=(2,), dtype=int32, numpy=array([ 7, 10], dtype=int32)>"
      ]
     },
     "execution_count": 10,
     "metadata": {},
     "output_type": "execute_result"
    }
   ],
   "source": [
    "tf.abs(D)"
   ]
  },
  {
   "cell_type": "markdown",
   "id": "257d93a0-395a-4698-81c9-afe97bb8ae9d",
   "metadata": {},
   "source": [
    "Lets go through the following forms of aggregation\n",
    "* Get the minimum\n",
    "* Get the maximum\n",
    "* Get the mean of a tensor\n",
    "* Get the sum of a tensor"
   ]
  },
  {
   "cell_type": "code",
   "execution_count": 32,
   "id": "81c6d915-90bc-417c-b241-3f47e8ceb7b8",
   "metadata": {},
   "outputs": [
    {
     "data": {
      "text/plain": [
       "<tf.Tensor: shape=(50,), dtype=int64, numpy=\n",
       "array([ 3, 51, 85, 65, 97, 11, 92, 66, 72, 56, 45, 26, 30, 19, 94, 19, 76,\n",
       "       66, 71,  2, 67, 45, 51,  7, 75, 51, 88, 50, 20, 59, 61, 61,  1, 23,\n",
       "       68, 63, 76,  3, 10, 31, 73, 31, 43, 67, 76, 45, 40, 94, 97, 97])>"
      ]
     },
     "execution_count": 32,
     "metadata": {},
     "output_type": "execute_result"
    }
   ],
   "source": [
    "import numpy as np\n",
    "# Create a random tensor with values between 0 and 100\n",
    "E = tf.constant(np.random.randint(0,100, size = 50))\n",
    "E"
   ]
  },
  {
   "cell_type": "code",
   "execution_count": 16,
   "id": "3413b489-33b0-48fb-b899-e342df9a6851",
   "metadata": {},
   "outputs": [
    {
     "data": {
      "text/plain": [
       "50"
      ]
     },
     "execution_count": 18,
     "metadata": {},
     "output_type": "execute_result"
    }
   ],
   "source": [
    "tf.size(E), E.shape, E.ndim"
   ]
  },
  {
   "cell_type": "code",
   "execution_count": 20,
   "id": "23a523fc-84fa-4b74-a09c-1843f9cad004",
   "metadata": {},
   "outputs": [
    {
     "data": {
      "text/plain": [
       "5"
      ]
     },
     "execution_count": 20,
     "metadata": {},
     "output_type": "execute_result"
    }
   ],
   "source": [
    "# Find the minimum\n",
    "tf.reduce_min(E).numpy()"
   ]
  },
  {
   "cell_type": "code",
   "execution_count": 21,
   "id": "60e42c5e-72ac-4bc7-bc92-33a63f9bfef4",
   "metadata": {},
   "outputs": [
    {
     "data": {
      "text/plain": [
       "<tf.Tensor: shape=(), dtype=int64, numpy=95>"
      ]
     },
     "execution_count": 21,
     "metadata": {},
     "output_type": "execute_result"
    }
   ],
   "source": [
    "# Find the maximum\n",
    "tf.reduce_max(E).numpy()"
   ]
  },
  {
   "cell_type": "code",
   "execution_count": 23,
   "id": "05603144-0a67-4f1c-95bd-83dd3994e340",
   "metadata": {},
   "outputs": [
    {
     "data": {
      "text/plain": [
       "49"
      ]
     },
     "execution_count": 23,
     "metadata": {},
     "output_type": "execute_result"
    }
   ],
   "source": [
    "#Find the mean\n",
    "tf.reduce_mean(E).numpy()"
   ]
  },
  {
   "cell_type": "code",
   "execution_count": 24,
   "id": "dcd8cec9-e092-4313-a9fc-179055ca8aba",
   "metadata": {},
   "outputs": [
    {
     "data": {
      "text/plain": [
       "2483"
      ]
     },
     "execution_count": 24,
     "metadata": {},
     "output_type": "execute_result"
    }
   ],
   "source": [
    "#Find the sum\n",
    "tf.reduce_sum(E).numpy()"
   ]
  },
  {
   "cell_type": "code",
   "execution_count": 35,
   "id": "fc35343e-c3e9-485d-bb52-eed3f63d1cb2",
   "metadata": {},
   "outputs": [
    {
     "data": {
      "text/plain": [
       "809"
      ]
     },
     "execution_count": 35,
     "metadata": {},
     "output_type": "execute_result"
    }
   ],
   "source": [
    "# Find the variance\n",
    "tfp.stats.variance(E).numpy()"
   ]
  },
  {
   "cell_type": "code",
   "execution_count": 38,
   "id": "977a6d49-1748-4fcc-b583-ed25cdc5a5bf",
   "metadata": {},
   "outputs": [
    {
     "data": {
      "text/plain": [
       "28.457611"
      ]
     },
     "execution_count": 38,
     "metadata": {},
     "output_type": "execute_result"
    }
   ],
   "source": [
    "# Find the standard deviation\n",
    "tf.math.reduce_std(tf.cast(E,dtype=tf.float32)).numpy()"
   ]
  },
  {
   "cell_type": "markdown",
   "id": "945caba2-eb95-4c80-bf2c-0c5a0485ff86",
   "metadata": {
    "jp-MarkdownHeadingCollapsed": true,
    "tags": []
   },
   "source": [
    "# Find the positional Minimum and Maximum #"
   ]
  },
  {
   "cell_type": "code",
   "execution_count": 20,
   "id": "2d12dd31-79d0-4c31-a75a-261c32e041d4",
   "metadata": {},
   "outputs": [
    {
     "data": {
      "text/plain": [
       "<tf.Tensor: shape=(50,), dtype=float32, numpy=\n",
       "array([0.6645621 , 0.44100678, 0.3528825 , 0.46448255, 0.03366041,\n",
       "       0.68467236, 0.74011743, 0.8724445 , 0.22632635, 0.22319686,\n",
       "       0.3103881 , 0.7223358 , 0.13318717, 0.5480639 , 0.5746088 ,\n",
       "       0.8996835 , 0.00946367, 0.5212307 , 0.6345445 , 0.1993283 ,\n",
       "       0.72942245, 0.54583454, 0.10756552, 0.6767061 , 0.6602763 ,\n",
       "       0.33695042, 0.60141766, 0.21062577, 0.8527372 , 0.44062173,\n",
       "       0.9485276 , 0.23752594, 0.81179297, 0.5263394 , 0.494308  ,\n",
       "       0.21612847, 0.8457197 , 0.8718841 , 0.3083862 , 0.6868038 ,\n",
       "       0.23764038, 0.7817228 , 0.9671384 , 0.06870162, 0.79873943,\n",
       "       0.66028714, 0.5871513 , 0.16461694, 0.7381023 , 0.32054043],\n",
       "      dtype=float32)>"
      ]
     },
     "execution_count": 20,
     "metadata": {},
     "output_type": "execute_result"
    }
   ],
   "source": [
    "# Create a new tensor finding positional minimum and maximum\n",
    "tf.random.set_seed(42)\n",
    "F = tf.random.uniform(shape=[50])\n",
    "F"
   ]
  },
  {
   "cell_type": "code",
   "execution_count": 21,
   "id": "899c68de-8b1e-4be6-821c-d0f2599bd26b",
   "metadata": {},
   "outputs": [
    {
     "data": {
      "text/plain": [
       "<tf.Tensor: shape=(), dtype=int64, numpy=42>"
      ]
     },
     "execution_count": 21,
     "metadata": {},
     "output_type": "execute_result"
    }
   ],
   "source": [
    "# Find the positinal maximum\n",
    "tf.argmax(F)"
   ]
  },
  {
   "cell_type": "code",
   "execution_count": 22,
   "id": "90b18dce-711b-47fc-87db-b1db6b188a04",
   "metadata": {},
   "outputs": [
    {
     "data": {
      "text/plain": [
       "<tf.Tensor: shape=(), dtype=float32, numpy=0.9671384>"
      ]
     },
     "execution_count": 22,
     "metadata": {},
     "output_type": "execute_result"
    }
   ],
   "source": [
    "# Index on our largest value position\n",
    "F[tf.argmax(F)]"
   ]
  },
  {
   "cell_type": "code",
   "execution_count": 23,
   "id": "8ede1e99-ec07-4538-bd93-008c72b59dda",
   "metadata": {},
   "outputs": [
    {
     "data": {
      "text/plain": [
       "<tf.Tensor: shape=(), dtype=float32, numpy=0.9671384>"
      ]
     },
     "execution_count": 23,
     "metadata": {},
     "output_type": "execute_result"
    }
   ],
   "source": [
    "# Find the max value of F\n",
    "tf.reduce_max(F)"
   ]
  },
  {
   "cell_type": "code",
   "execution_count": 24,
   "id": "3d3289dd-38b7-4c16-ae44-c21bbd6080be",
   "metadata": {},
   "outputs": [
    {
     "data": {
      "text/plain": [
       "<tf.Tensor: shape=(), dtype=bool, numpy=True>"
      ]
     },
     "execution_count": 24,
     "metadata": {},
     "output_type": "execute_result"
    }
   ],
   "source": [
    "# CHeck equality\n",
    "F[tf.argmax(F)]==tf.reduce_max(F)"
   ]
  },
  {
   "cell_type": "code",
   "execution_count": 25,
   "id": "3d888b20-8697-4f88-84fc-178a2c92d566",
   "metadata": {},
   "outputs": [
    {
     "data": {
      "text/plain": [
       "<tf.Tensor: shape=(), dtype=int64, numpy=16>"
      ]
     },
     "execution_count": 25,
     "metadata": {},
     "output_type": "execute_result"
    }
   ],
   "source": [
    "# FInd the positional minimum\n",
    "tf.argmin(F)"
   ]
  },
  {
   "cell_type": "code",
   "execution_count": 27,
   "id": "428f4c22-91a6-48d0-a3c1-e7b6f4908c62",
   "metadata": {},
   "outputs": [
    {
     "data": {
      "text/plain": [
       "<tf.Tensor: shape=(), dtype=float32, numpy=0.009463668>"
      ]
     },
     "execution_count": 27,
     "metadata": {},
     "output_type": "execute_result"
    }
   ],
   "source": [
    "# Find the minimum using the positional minimum index\n",
    "F[tf.argmin(F)]"
   ]
  },
  {
   "cell_type": "code",
   "execution_count": 28,
   "id": "13116c22-d61e-44fc-ba34-d8d2de6cbeef",
   "metadata": {},
   "outputs": [
    {
     "data": {
      "text/plain": [
       "<tf.Tensor: shape=(), dtype=float32, numpy=0.009463668>"
      ]
     },
     "execution_count": 28,
     "metadata": {},
     "output_type": "execute_result"
    }
   ],
   "source": [
    "# Find the minimum value of F\n",
    "tf.reduce_min(F)"
   ]
  },
  {
   "cell_type": "markdown",
   "id": "3a313b4e-6c55-43ac-bac4-f27470553b3e",
   "metadata": {
    "jp-MarkdownHeadingCollapsed": true,
    "tags": []
   },
   "source": [
    "# Squeezing a tensor (Removing all single dimensions) #"
   ]
  },
  {
   "cell_type": "code",
   "execution_count": 42,
   "id": "fbc01d4a-8a25-451b-847b-c4db7d2dcc48",
   "metadata": {},
   "outputs": [
    {
     "data": {
      "text/plain": [
       "<tf.Tensor: shape=(1, 1, 1, 1, 50), dtype=float32, numpy=\n",
       "array([[[[[0.6645621 , 0.44100678, 0.3528825 , 0.46448255, 0.03366041,\n",
       "           0.68467236, 0.74011743, 0.8724445 , 0.22632635, 0.22319686,\n",
       "           0.3103881 , 0.7223358 , 0.13318717, 0.5480639 , 0.5746088 ,\n",
       "           0.8996835 , 0.00946367, 0.5212307 , 0.6345445 , 0.1993283 ,\n",
       "           0.72942245, 0.54583454, 0.10756552, 0.6767061 , 0.6602763 ,\n",
       "           0.33695042, 0.60141766, 0.21062577, 0.8527372 , 0.44062173,\n",
       "           0.9485276 , 0.23752594, 0.81179297, 0.5263394 , 0.494308  ,\n",
       "           0.21612847, 0.8457197 , 0.8718841 , 0.3083862 , 0.6868038 ,\n",
       "           0.23764038, 0.7817228 , 0.9671384 , 0.06870162, 0.79873943,\n",
       "           0.66028714, 0.5871513 , 0.16461694, 0.7381023 , 0.32054043]]]]],\n",
       "      dtype=float32)>"
      ]
     },
     "execution_count": 42,
     "metadata": {},
     "output_type": "execute_result"
    }
   ],
   "source": [
    "# Create a tensor to get started\n",
    "tf.random.set_seed(42)\n",
    "G = tf.constant(tf.random.uniform(shape=[50]), shape=(1,1,1,1,50))\n",
    "G"
   ]
  },
  {
   "cell_type": "code",
   "execution_count": 38,
   "id": "050390a0-7b85-4487-9913-11c540b4ce13",
   "metadata": {},
   "outputs": [
    {
     "data": {
      "text/plain": [
       "TensorShape([1, 1, 1, 1, 50])"
      ]
     },
     "execution_count": 38,
     "metadata": {},
     "output_type": "execute_result"
    }
   ],
   "source": [
    "G.shape"
   ]
  },
  {
   "cell_type": "code",
   "execution_count": null,
   "id": "4c021d4a-b824-4b13-87b9-a45352d46963",
   "metadata": {},
   "outputs": [],
   "source": [
    "Gsq = tf.squeeze(G) # tf.squeez() removes all dimensions of size one\n",
    "Gsq"
   ]
  },
  {
   "cell_type": "markdown",
   "id": "cefa6b89-de30-46d5-8223-69140e39ef33",
   "metadata": {
    "jp-MarkdownHeadingCollapsed": true,
    "tags": []
   },
   "source": [
    "# One hot encoding tensors #"
   ]
  },
  {
   "cell_type": "code",
   "execution_count": 48,
   "id": "9854717e-f648-466e-ba26-5dd505cc7f13",
   "metadata": {},
   "outputs": [
    {
     "data": {
      "text/plain": [
       "<tf.Tensor: shape=(4, 4), dtype=float32, numpy=\n",
       "array([[1., 0., 0., 0.],\n",
       "       [0., 1., 0., 0.],\n",
       "       [0., 0., 1., 0.],\n",
       "       [0., 0., 0., 1.]], dtype=float32)>"
      ]
     },
     "execution_count": 48,
     "metadata": {},
     "output_type": "execute_result"
    }
   ],
   "source": [
    "# Create a list of indices\n",
    "ilist = [0,1,2,3]\n",
    "\n",
    "# One hot encode our list of indices\n",
    "tf.one_hot(ilist,depth=4)"
   ]
  },
  {
   "cell_type": "code",
   "execution_count": 50,
   "id": "40ec6503-9dfd-4eae-be1f-1aa9ec5c72ca",
   "metadata": {},
   "outputs": [
    {
     "data": {
      "text/plain": [
       "<tf.Tensor: shape=(4, 4), dtype=string, numpy=\n",
       "array([[b'yo i love deep learning', b'I also likes to dancing',\n",
       "        b'I also likes to dancing', b'I also likes to dancing'],\n",
       "       [b'I also likes to dancing', b'yo i love deep learning',\n",
       "        b'I also likes to dancing', b'I also likes to dancing'],\n",
       "       [b'I also likes to dancing', b'I also likes to dancing',\n",
       "        b'yo i love deep learning', b'I also likes to dancing'],\n",
       "       [b'I also likes to dancing', b'I also likes to dancing',\n",
       "        b'I also likes to dancing', b'yo i love deep learning']],\n",
       "      dtype=object)>"
      ]
     },
     "execution_count": 50,
     "metadata": {},
     "output_type": "execute_result"
    }
   ],
   "source": [
    "# Specify custom values for one hot encoding\n",
    "tf.one_hot(ilist, depth=4,on_value=\"yo i love deep learning\",off_value=\"I also likes to dancing\")"
   ]
  },
  {
   "cell_type": "markdown",
   "id": "38e9b42c-a565-4bb2-917e-826b04f59f05",
   "metadata": {
    "jp-MarkdownHeadingCollapsed": true,
    "tags": []
   },
   "source": [
    "# Squarring, log, square root #"
   ]
  },
  {
   "cell_type": "code",
   "execution_count": 12,
   "id": "48d33bd1-f508-4418-8ff4-35b4910ae4d8",
   "metadata": {},
   "outputs": [
    {
     "data": {
      "text/plain": [
       "<tf.Tensor: shape=(9,), dtype=float32, numpy=array([1., 2., 3., 4., 5., 6., 7., 8., 9.], dtype=float32)>"
      ]
     },
     "execution_count": 12,
     "metadata": {},
     "output_type": "execute_result"
    }
   ],
   "source": [
    "# Create a new tensor\n",
    "H = tf.range(1,10)\n",
    "H = tf.cast(H,tf.float32)\n",
    "H"
   ]
  },
  {
   "cell_type": "code",
   "execution_count": 13,
   "id": "86d1f56d-d209-47fe-894f-17a6359ca39b",
   "metadata": {},
   "outputs": [
    {
     "data": {
      "text/plain": [
       "<tf.Tensor: shape=(9,), dtype=float32, numpy=array([ 1.,  4.,  9., 16., 25., 36., 49., 64., 81.], dtype=float32)>"
      ]
     },
     "execution_count": 13,
     "metadata": {},
     "output_type": "execute_result"
    }
   ],
   "source": [
    "# Square it\n",
    "tf.square(H)"
   ]
  },
  {
   "cell_type": "code",
   "execution_count": 14,
   "id": "fc0d9ed9-2dde-408d-adca-f57382c5d017",
   "metadata": {},
   "outputs": [
    {
     "data": {
      "text/plain": [
       "array([1.       , 1.4142135, 1.7320508, 2.       , 2.236068 , 2.4494898,\n",
       "       2.6457512, 2.828427 , 3.       ], dtype=float32)"
      ]
     },
     "execution_count": 14,
     "metadata": {},
     "output_type": "execute_result"
    }
   ],
   "source": [
    "# Square root\n",
    "tf.sqrt(H).numpy()"
   ]
  },
  {
   "cell_type": "code",
   "execution_count": 15,
   "id": "964b06f0-d987-4be6-baf6-800d0ddada80",
   "metadata": {},
   "outputs": [
    {
     "data": {
      "text/plain": [
       "<tf.Tensor: shape=(9,), dtype=float32, numpy=\n",
       "array([0.       , 0.6931472, 1.0986123, 1.3862944, 1.609438 , 1.7917595,\n",
       "       1.9459102, 2.0794415, 2.1972246], dtype=float32)>"
      ]
     },
     "execution_count": 15,
     "metadata": {},
     "output_type": "execute_result"
    }
   ],
   "source": [
    "# Find the log\n",
    "tf.math.log(H)"
   ]
  },
  {
   "cell_type": "markdown",
   "id": "ef61f3f8-035c-4a28-9fea-24fa70e46df5",
   "metadata": {
    "jp-MarkdownHeadingCollapsed": true,
    "tags": []
   },
   "source": [
    "# Tensors and Numpy #"
   ]
  },
  {
   "cell_type": "code",
   "execution_count": 17,
   "id": "38322317-922a-401a-b7b7-8f918f35392d",
   "metadata": {},
   "outputs": [
    {
     "data": {
      "text/plain": [
       "<tf.Tensor: shape=(3,), dtype=float64, numpy=array([ 3.,  7., 10.])>"
      ]
     },
     "execution_count": 17,
     "metadata": {},
     "output_type": "execute_result"
    }
   ],
   "source": [
    "# Create a tensor directly from numpy array\n",
    "J = tf.constant(np.array([3.,7.,10.]))\n",
    "J"
   ]
  },
  {
   "cell_type": "code",
   "execution_count": 19,
   "id": "f6ff1d9e-7bef-4d74-8e70-0b839629c861",
   "metadata": {},
   "outputs": [
    {
     "data": {
      "text/plain": [
       "(array([ 3.,  7., 10.]), numpy.ndarray)"
      ]
     },
     "execution_count": 19,
     "metadata": {},
     "output_type": "execute_result"
    }
   ],
   "source": [
    "# Convert tensor back to numpy array\n",
    "np.array(J) , type(np.array(J))"
   ]
  },
  {
   "cell_type": "code",
   "execution_count": 20,
   "id": "69b417f6-8f81-4042-bbbf-23aab8a398ed",
   "metadata": {},
   "outputs": [
    {
     "data": {
      "text/plain": [
       "(array([ 3.,  7., 10.]), numpy.ndarray)"
      ]
     },
     "execution_count": 20,
     "metadata": {},
     "output_type": "execute_result"
    }
   ],
   "source": [
    "# Convert tensor J to numpy array\n",
    "J.numpy(), type(J.numpy())"
   ]
  },
  {
   "cell_type": "code",
   "execution_count": 27,
   "id": "90cda084-44ee-4703-b214-fcd1a5e38397",
   "metadata": {},
   "outputs": [
    {
     "data": {
      "text/plain": [
       "3.0"
      ]
     },
     "execution_count": 27,
     "metadata": {},
     "output_type": "execute_result"
    }
   ],
   "source": [
    "J.numpy()[0]"
   ]
  },
  {
   "cell_type": "code",
   "execution_count": 32,
   "id": "fc313c3c-7e2c-4e5d-8812-fc0d2856b3b7",
   "metadata": {},
   "outputs": [
    {
     "data": {
      "text/plain": [
       "<tf.Tensor: shape=(3,), dtype=bool, numpy=array([ True,  True,  True])>"
      ]
     },
     "execution_count": 32,
     "metadata": {},
     "output_type": "execute_result"
    }
   ],
   "source": [
    "# The default types of each are sligtly different\n",
    "numpyJ = tf.constant(np.array([3.,7.,10.]))\n",
    "tensorJ = tf.constant([3.,7.,10.])\n",
    "# Check whether they are equal convert float64 numpy to float32\n",
    "tf.cast(numpyJ,tf.float32)==tensorJ "
   ]
  },
  {
   "cell_type": "code",
   "execution_count": null,
   "id": "5dd96c67-5092-42c1-800d-8d4f6831cab0",
   "metadata": {},
   "outputs": [],
   "source": []
  }
 ],
 "metadata": {
  "kernelspec": {
   "display_name": "py3env",
   "language": "python",
   "name": "py3env"
  },
  "language_info": {
   "codemirror_mode": {
    "name": "ipython",
    "version": 3
   },
   "file_extension": ".py",
   "mimetype": "text/x-python",
   "name": "python",
   "nbconvert_exporter": "python",
   "pygments_lexer": "ipython3",
   "version": "3.8.10"
  }
 },
 "nbformat": 4,
 "nbformat_minor": 5
}
